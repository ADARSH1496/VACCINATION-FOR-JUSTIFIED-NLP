{
 "cells": [
  {
   "cell_type": "code",
   "execution_count": 1,
   "metadata": {
    "colab": {
     "base_uri": "https://localhost:8080/"
    },
    "id": "wUbqZKOOm_2x",
    "outputId": "a771a938-e01d-4f85-f854-d57a8191c8d3"
   },
   "outputs": [
    {
     "name": "stdout",
     "output_type": "stream",
     "text": [
      "Mounted at /content/drive\n"
     ]
    }
   ],
   "source": [
    "from google.colab import drive\n",
    "drive.mount('/content/drive')"
   ]
  },
  {
   "cell_type": "code",
   "execution_count": 2,
   "metadata": {
    "id": "XAh0Njbyn7HX"
   },
   "outputs": [],
   "source": [
    "import pandas as pd"
   ]
  },
  {
   "cell_type": "code",
   "execution_count": 3,
   "metadata": {
    "colab": {
     "base_uri": "https://localhost:8080/",
     "height": 521
    },
    "id": "OZVvHLPOrzOh",
    "outputId": "0cb9d824-933f-451e-c649-08356812af07"
   },
   "outputs": [
    {
     "data": {
      "text/html": [
       "<div>\n",
       "<style scoped>\n",
       "    .dataframe tbody tr th:only-of-type {\n",
       "        vertical-align: middle;\n",
       "    }\n",
       "\n",
       "    .dataframe tbody tr th {\n",
       "        vertical-align: top;\n",
       "    }\n",
       "\n",
       "    .dataframe thead th {\n",
       "        text-align: right;\n",
       "    }\n",
       "</style>\n",
       "<table border=\"1\" class=\"dataframe\">\n",
       "  <thead>\n",
       "    <tr style=\"text-align: right;\">\n",
       "      <th></th>\n",
       "      <th>id</th>\n",
       "      <th>user_name</th>\n",
       "      <th>user_location</th>\n",
       "      <th>user_description</th>\n",
       "      <th>user_created</th>\n",
       "      <th>user_followers</th>\n",
       "      <th>user_friends</th>\n",
       "      <th>user_favourites</th>\n",
       "      <th>user_verified</th>\n",
       "      <th>date</th>\n",
       "      <th>text</th>\n",
       "      <th>hashtags</th>\n",
       "      <th>source</th>\n",
       "      <th>retweets</th>\n",
       "      <th>favorites</th>\n",
       "      <th>is_retweet</th>\n",
       "    </tr>\n",
       "  </thead>\n",
       "  <tbody>\n",
       "    <tr>\n",
       "      <th>0</th>\n",
       "      <td>1340539111971516416</td>\n",
       "      <td>Rachel Roh</td>\n",
       "      <td>La Crescenta-Montrose, CA</td>\n",
       "      <td>Aggregator of Asian American news; scanning di...</td>\n",
       "      <td>2009-04-08 17:52:46</td>\n",
       "      <td>405</td>\n",
       "      <td>1692</td>\n",
       "      <td>3247</td>\n",
       "      <td>False</td>\n",
       "      <td>2020-12-20 06:06:44</td>\n",
       "      <td>Same folks said daikon paste could treat a cyt...</td>\n",
       "      <td>['PfizerBioNTech']</td>\n",
       "      <td>Twitter for Android</td>\n",
       "      <td>0</td>\n",
       "      <td>0</td>\n",
       "      <td>False</td>\n",
       "    </tr>\n",
       "    <tr>\n",
       "      <th>1</th>\n",
       "      <td>1338158543359250433</td>\n",
       "      <td>Albert Fong</td>\n",
       "      <td>San Francisco, CA</td>\n",
       "      <td>Marketing dude, tech geek, heavy metal &amp; '80s ...</td>\n",
       "      <td>2009-09-21 15:27:30</td>\n",
       "      <td>834</td>\n",
       "      <td>666</td>\n",
       "      <td>178</td>\n",
       "      <td>False</td>\n",
       "      <td>2020-12-13 16:27:13</td>\n",
       "      <td>While the world has been on the wrong side of ...</td>\n",
       "      <td>NaN</td>\n",
       "      <td>Twitter Web App</td>\n",
       "      <td>1</td>\n",
       "      <td>1</td>\n",
       "      <td>False</td>\n",
       "    </tr>\n",
       "    <tr>\n",
       "      <th>2</th>\n",
       "      <td>1337858199140118533</td>\n",
       "      <td>eli🇱🇹🇪🇺👌</td>\n",
       "      <td>Your Bed</td>\n",
       "      <td>heil, hydra 🖐☺</td>\n",
       "      <td>2020-06-25 23:30:28</td>\n",
       "      <td>10</td>\n",
       "      <td>88</td>\n",
       "      <td>155</td>\n",
       "      <td>False</td>\n",
       "      <td>2020-12-12 20:33:45</td>\n",
       "      <td>#coronavirus #SputnikV #AstraZeneca #PfizerBio...</td>\n",
       "      <td>['coronavirus', 'SputnikV', 'AstraZeneca', 'Pf...</td>\n",
       "      <td>Twitter for Android</td>\n",
       "      <td>0</td>\n",
       "      <td>0</td>\n",
       "      <td>False</td>\n",
       "    </tr>\n",
       "    <tr>\n",
       "      <th>3</th>\n",
       "      <td>1337855739918835717</td>\n",
       "      <td>Charles Adler</td>\n",
       "      <td>Vancouver, BC - Canada</td>\n",
       "      <td>Hosting \"CharlesAdlerTonight\" Global News Radi...</td>\n",
       "      <td>2008-09-10 11:28:53</td>\n",
       "      <td>49165</td>\n",
       "      <td>3933</td>\n",
       "      <td>21853</td>\n",
       "      <td>True</td>\n",
       "      <td>2020-12-12 20:23:59</td>\n",
       "      <td>Facts are immutable, Senator, even when you're...</td>\n",
       "      <td>NaN</td>\n",
       "      <td>Twitter Web App</td>\n",
       "      <td>446</td>\n",
       "      <td>2129</td>\n",
       "      <td>False</td>\n",
       "    </tr>\n",
       "    <tr>\n",
       "      <th>4</th>\n",
       "      <td>1337854064604966912</td>\n",
       "      <td>Citizen News Channel</td>\n",
       "      <td>NaN</td>\n",
       "      <td>Citizen News Channel bringing you an alternati...</td>\n",
       "      <td>2020-04-23 17:58:42</td>\n",
       "      <td>152</td>\n",
       "      <td>580</td>\n",
       "      <td>1473</td>\n",
       "      <td>False</td>\n",
       "      <td>2020-12-12 20:17:19</td>\n",
       "      <td>Explain to me again why we need a vaccine @Bor...</td>\n",
       "      <td>['whereareallthesickpeople', 'PfizerBioNTech']</td>\n",
       "      <td>Twitter for iPhone</td>\n",
       "      <td>0</td>\n",
       "      <td>0</td>\n",
       "      <td>False</td>\n",
       "    </tr>\n",
       "  </tbody>\n",
       "</table>\n",
       "</div>"
      ],
      "text/plain": [
       "                    id             user_name  ... favorites is_retweet\n",
       "0  1340539111971516416            Rachel Roh  ...         0      False\n",
       "1  1338158543359250433           Albert Fong  ...         1      False\n",
       "2  1337858199140118533              eli🇱🇹🇪🇺👌  ...         0      False\n",
       "3  1337855739918835717         Charles Adler  ...      2129      False\n",
       "4  1337854064604966912  Citizen News Channel  ...         0      False\n",
       "\n",
       "[5 rows x 16 columns]"
      ]
     },
     "execution_count": 3,
     "metadata": {
      "tags": []
     },
     "output_type": "execute_result"
    }
   ],
   "source": [
    "data = pd.read_csv('/content/drive/MyDrive/DATA_SCIENCE_PROJECTS/Vaccination_For_Justified/dataset/vaccination_tweets.csv')\n",
    "data.head()"
   ]
  },
  {
   "cell_type": "code",
   "execution_count": 4,
   "metadata": {
    "id": "zNfeeKnqsAAD"
   },
   "outputs": [],
   "source": [
    "import numpy as np\n",
    "import matplotlib.pyplot as plt\n",
    "import seaborn as sns"
   ]
  },
  {
   "cell_type": "code",
   "execution_count": 5,
   "metadata": {
    "colab": {
     "base_uri": "https://localhost:8080/",
     "height": 300
    },
    "id": "MBIZaARNsVnh",
    "outputId": "935727a0-cce5-474c-91ec-9e006d49dc12"
   },
   "outputs": [
    {
     "data": {
      "text/html": [
       "<div>\n",
       "<style scoped>\n",
       "    .dataframe tbody tr th:only-of-type {\n",
       "        vertical-align: middle;\n",
       "    }\n",
       "\n",
       "    .dataframe tbody tr th {\n",
       "        vertical-align: top;\n",
       "    }\n",
       "\n",
       "    .dataframe thead th {\n",
       "        text-align: right;\n",
       "    }\n",
       "</style>\n",
       "<table border=\"1\" class=\"dataframe\">\n",
       "  <thead>\n",
       "    <tr style=\"text-align: right;\">\n",
       "      <th></th>\n",
       "      <th>id</th>\n",
       "      <th>user_followers</th>\n",
       "      <th>user_friends</th>\n",
       "      <th>user_favourites</th>\n",
       "      <th>retweets</th>\n",
       "      <th>favorites</th>\n",
       "    </tr>\n",
       "  </thead>\n",
       "  <tbody>\n",
       "    <tr>\n",
       "      <th>count</th>\n",
       "      <td>2.518000e+03</td>\n",
       "      <td>2.518000e+03</td>\n",
       "      <td>2518.000000</td>\n",
       "      <td>2518.000000</td>\n",
       "      <td>2518.000000</td>\n",
       "      <td>2518.000000</td>\n",
       "    </tr>\n",
       "    <tr>\n",
       "      <th>mean</th>\n",
       "      <td>1.341949e+18</td>\n",
       "      <td>6.342983e+04</td>\n",
       "      <td>1170.952740</td>\n",
       "      <td>13380.415012</td>\n",
       "      <td>1.715250</td>\n",
       "      <td>10.464654</td>\n",
       "    </tr>\n",
       "    <tr>\n",
       "      <th>std</th>\n",
       "      <td>2.768504e+15</td>\n",
       "      <td>4.762127e+05</td>\n",
       "      <td>2469.263253</td>\n",
       "      <td>41706.034152</td>\n",
       "      <td>12.237077</td>\n",
       "      <td>74.644921</td>\n",
       "    </tr>\n",
       "    <tr>\n",
       "      <th>min</th>\n",
       "      <td>1.337728e+18</td>\n",
       "      <td>0.000000e+00</td>\n",
       "      <td>0.000000</td>\n",
       "      <td>0.000000</td>\n",
       "      <td>0.000000</td>\n",
       "      <td>0.000000</td>\n",
       "    </tr>\n",
       "    <tr>\n",
       "      <th>25%</th>\n",
       "      <td>1.339437e+18</td>\n",
       "      <td>1.140000e+02</td>\n",
       "      <td>165.000000</td>\n",
       "      <td>342.000000</td>\n",
       "      <td>0.000000</td>\n",
       "      <td>0.000000</td>\n",
       "    </tr>\n",
       "    <tr>\n",
       "      <th>50%</th>\n",
       "      <td>1.341481e+18</td>\n",
       "      <td>6.060000e+02</td>\n",
       "      <td>441.000000</td>\n",
       "      <td>1659.000000</td>\n",
       "      <td>0.000000</td>\n",
       "      <td>1.000000</td>\n",
       "    </tr>\n",
       "    <tr>\n",
       "      <th>75%</th>\n",
       "      <td>1.344353e+18</td>\n",
       "      <td>2.978000e+03</td>\n",
       "      <td>1191.000000</td>\n",
       "      <td>9733.750000</td>\n",
       "      <td>1.000000</td>\n",
       "      <td>4.000000</td>\n",
       "    </tr>\n",
       "    <tr>\n",
       "      <th>max</th>\n",
       "      <td>1.347131e+18</td>\n",
       "      <td>1.371493e+07</td>\n",
       "      <td>64441.000000</td>\n",
       "      <td>924667.000000</td>\n",
       "      <td>446.000000</td>\n",
       "      <td>2129.000000</td>\n",
       "    </tr>\n",
       "  </tbody>\n",
       "</table>\n",
       "</div>"
      ],
      "text/plain": [
       "                 id  user_followers  ...     retweets    favorites\n",
       "count  2.518000e+03    2.518000e+03  ...  2518.000000  2518.000000\n",
       "mean   1.341949e+18    6.342983e+04  ...     1.715250    10.464654\n",
       "std    2.768504e+15    4.762127e+05  ...    12.237077    74.644921\n",
       "min    1.337728e+18    0.000000e+00  ...     0.000000     0.000000\n",
       "25%    1.339437e+18    1.140000e+02  ...     0.000000     0.000000\n",
       "50%    1.341481e+18    6.060000e+02  ...     0.000000     1.000000\n",
       "75%    1.344353e+18    2.978000e+03  ...     1.000000     4.000000\n",
       "max    1.347131e+18    1.371493e+07  ...   446.000000  2129.000000\n",
       "\n",
       "[8 rows x 6 columns]"
      ]
     },
     "execution_count": 5,
     "metadata": {
      "tags": []
     },
     "output_type": "execute_result"
    }
   ],
   "source": [
    "data.describe()"
   ]
  },
  {
   "cell_type": "code",
   "execution_count": 6,
   "metadata": {
    "colab": {
     "base_uri": "https://localhost:8080/"
    },
    "id": "BlszV-mHsXiS",
    "outputId": "ee97ce3a-93ad-4221-b104-0f29735e9b59"
   },
   "outputs": [
    {
     "name": "stdout",
     "output_type": "stream",
     "text": [
      "<class 'pandas.core.frame.DataFrame'>\n",
      "RangeIndex: 2518 entries, 0 to 2517\n",
      "Data columns (total 16 columns):\n",
      " #   Column            Non-Null Count  Dtype \n",
      "---  ------            --------------  ----- \n",
      " 0   id                2518 non-null   int64 \n",
      " 1   user_name         2518 non-null   object\n",
      " 2   user_location     1998 non-null   object\n",
      " 3   user_description  2394 non-null   object\n",
      " 4   user_created      2518 non-null   object\n",
      " 5   user_followers    2518 non-null   int64 \n",
      " 6   user_friends      2518 non-null   int64 \n",
      " 7   user_favourites   2518 non-null   int64 \n",
      " 8   user_verified     2518 non-null   bool  \n",
      " 9   date              2518 non-null   object\n",
      " 10  text              2518 non-null   object\n",
      " 11  hashtags          1884 non-null   object\n",
      " 12  source            2517 non-null   object\n",
      " 13  retweets          2518 non-null   int64 \n",
      " 14  favorites         2518 non-null   int64 \n",
      " 15  is_retweet        2518 non-null   bool  \n",
      "dtypes: bool(2), int64(6), object(8)\n",
      "memory usage: 280.4+ KB\n"
     ]
    }
   ],
   "source": [
    "data.info()"
   ]
  },
  {
   "cell_type": "code",
   "execution_count": 7,
   "metadata": {
    "colab": {
     "base_uri": "https://localhost:8080/"
    },
    "id": "XS6Uol8J01VB",
    "outputId": "cbae48f0-4695-451b-e238-f079b4d1931e"
   },
   "outputs": [
    {
     "data": {
      "text/plain": [
       "['id',\n",
       " 'user_name',\n",
       " 'user_location',\n",
       " 'user_description',\n",
       " 'user_created',\n",
       " 'user_followers',\n",
       " 'user_friends',\n",
       " 'user_favourites',\n",
       " 'user_verified',\n",
       " 'date',\n",
       " 'text',\n",
       " 'hashtags',\n",
       " 'source',\n",
       " 'retweets',\n",
       " 'favorites',\n",
       " 'is_retweet']"
      ]
     },
     "execution_count": 7,
     "metadata": {
      "tags": []
     },
     "output_type": "execute_result"
    }
   ],
   "source": [
    "columns = []\n",
    "for i in data.columns:\n",
    "  columns.append(i)\n",
    "columns"
   ]
  },
  {
   "cell_type": "code",
   "execution_count": 8,
   "metadata": {
    "colab": {
     "base_uri": "https://localhost:8080/"
    },
    "id": "yeDp8f5W1fJF",
    "outputId": "de481f0a-c861-4391-d3db-082a82a79ab2"
   },
   "outputs": [
    {
     "data": {
      "text/plain": [
       "id                  False\n",
       "user_name           False\n",
       "user_location        True\n",
       "user_description     True\n",
       "user_created        False\n",
       "user_followers      False\n",
       "user_friends        False\n",
       "user_favourites     False\n",
       "user_verified       False\n",
       "date                False\n",
       "text                False\n",
       "hashtags             True\n",
       "source               True\n",
       "retweets            False\n",
       "favorites           False\n",
       "is_retweet          False\n",
       "dtype: bool"
      ]
     },
     "execution_count": 8,
     "metadata": {
      "tags": []
     },
     "output_type": "execute_result"
    }
   ],
   "source": [
    "data.isnull().any()"
   ]
  },
  {
   "cell_type": "code",
   "execution_count": 9,
   "metadata": {
    "colab": {
     "base_uri": "https://localhost:8080/"
    },
    "id": "IL3k40dQ1qZa",
    "outputId": "fde062d4-b29d-4310-fc30-0623a4c35156"
   },
   "outputs": [
    {
     "data": {
      "text/plain": [
       "(2518, 16)"
      ]
     },
     "execution_count": 9,
     "metadata": {
      "tags": []
     },
     "output_type": "execute_result"
    }
   ],
   "source": [
    "data.shape"
   ]
  },
  {
   "cell_type": "code",
   "execution_count": 10,
   "metadata": {
    "colab": {
     "base_uri": "https://localhost:8080/"
    },
    "id": "-OvazcwH1t5y",
    "outputId": "6678bebb-aef5-4148-a56d-e3e2b8cbc4d4"
   },
   "outputs": [
    {
     "data": {
      "text/plain": [
       "id                    0\n",
       "user_name             0\n",
       "user_location       520\n",
       "user_description    124\n",
       "user_created          0\n",
       "user_followers        0\n",
       "user_friends          0\n",
       "user_favourites       0\n",
       "user_verified         0\n",
       "date                  0\n",
       "text                  0\n",
       "hashtags            634\n",
       "source                1\n",
       "retweets              0\n",
       "favorites             0\n",
       "is_retweet            0\n",
       "dtype: int64"
      ]
     },
     "execution_count": 10,
     "metadata": {
      "tags": []
     },
     "output_type": "execute_result"
    }
   ],
   "source": [
    "data.isnull().sum()"
   ]
  },
  {
   "cell_type": "code",
   "execution_count": 11,
   "metadata": {
    "colab": {
     "base_uri": "https://localhost:8080/",
     "height": 360
    },
    "id": "HNws4-_U1ycC",
    "outputId": "bd1eaa3b-f241-4897-8162-f8ded56294d4"
   },
   "outputs": [
    {
     "data": {
      "text/plain": [
       "<matplotlib.axes._subplots.AxesSubplot at 0x7f3786e03e10>"
      ]
     },
     "execution_count": 11,
     "metadata": {
      "tags": []
     },
     "output_type": "execute_result"
    },
    {
     "data": {
      "image/png": "[encoded data removed]",
      "text/plain": [
       "<Figure size 432x288 with 2 Axes>"
      ]
     },
     "metadata": {
      "needs_background": "light",
      "tags": []
     },
     "output_type": "display_data"
    }
   ],
   "source": [
    "sns.heatmap(data.isnull(), cmap='magma')"
   ]
  },
  {
   "cell_type": "code",
   "execution_count": 12,
   "metadata": {
    "colab": {
     "base_uri": "https://localhost:8080/"
    },
    "id": "Dzs7_HwS3lkA",
    "outputId": "6ccbd652-95f6-4de3-c02a-b2702101d3bb"
   },
   "outputs": [
    {
     "data": {
      "text/plain": [
       "(2518, 16)"
      ]
     },
     "execution_count": 12,
     "metadata": {
      "tags": []
     },
     "output_type": "execute_result"
    }
   ],
   "source": [
    "data.shape"
   ]
  },
  {
   "cell_type": "code",
   "execution_count": 13,
   "metadata": {
    "colab": {
     "base_uri": "https://localhost:8080/"
    },
    "id": "O8qwEyvF4ClE",
    "outputId": "0cd5fabe-4934-4a7b-f109-c091ede9a3d8"
   },
   "outputs": [
    {
     "data": {
      "text/plain": [
       "['user_location', 'user_description', 'hashtags', 'source']"
      ]
     },
     "execution_count": 13,
     "metadata": {
      "tags": []
     },
     "output_type": "execute_result"
    }
   ],
   "source": [
    "null_value_columns = []\n",
    "for i in data.columns:\n",
    "  if data[i].isnull().any() == True:\n",
    "    null_value_columns.append(i)\n",
    "null_value_columns"
   ]
  },
  {
   "cell_type": "code",
   "execution_count": 14,
   "metadata": {
    "colab": {
     "base_uri": "https://localhost:8080/"
    },
    "id": "wrL1gwI74Z5N",
    "outputId": "9f7c62fd-c652-4f44-e850-ca4183891403"
   },
   "outputs": [
    {
     "data": {
      "text/plain": [
       "(array([   4,    7,    8,   11,   13,   14,   20,   24,   36,   42,   46,\n",
       "          47,   50,   61,   66,   70,   74,   97,   98,  106,  107,  108,\n",
       "         112,  114,  121,  123,  132,  137,  141,  144,  148,  153,  158,\n",
       "         161,  166,  167,  169,  170,  193,  194,  195,  197,  209,  210,\n",
       "         213,  219,  224,  228,  230,  236,  237,  241,  247,  268,  272,\n",
       "         277,  279,  281,  287,  294,  296,  306,  312,  313,  320,  326,\n",
       "         327,  328,  329,  333,  345,  354,  355,  359,  360,  365,  369,\n",
       "         373,  375,  378,  379,  380,  381,  385,  386,  389,  392,  395,\n",
       "         399,  401,  405,  406,  430,  440,  442,  443,  450,  452,  454,\n",
       "         458,  484,  489,  494,  496,  499,  500,  504,  507,  508,  512,\n",
       "         514,  547,  557,  564,  566,  567,  580,  581,  590,  591,  595,\n",
       "         599,  605,  606,  609,  613,  624,  626,  627,  629,  630,  631,\n",
       "         636,  642,  644,  645,  647,  649,  655,  672,  673,  683,  697,\n",
       "         702,  703,  711,  719,  724,  737,  746,  749,  763,  764,  765,\n",
       "         766,  767,  768,  769,  770,  771,  772,  773,  774,  775,  777,\n",
       "         778,  779,  780,  781,  784,  787,  790,  804,  806,  807,  816,\n",
       "         817,  818,  819,  820,  821,  828,  832,  833,  837,  841,  842,\n",
       "         843,  850,  853,  859,  860,  863,  874,  880,  886,  893,  902,\n",
       "         903,  904,  905,  906,  907,  913,  915,  916,  928,  943,  945,\n",
       "         946,  955,  958,  966,  972,  975,  979,  987,  996, 1001, 1010,\n",
       "        1011, 1019, 1020, 1021, 1028, 1030, 1039, 1044, 1049, 1058, 1059,\n",
       "        1060, 1062, 1064, 1069, 1074, 1076, 1079, 1080, 1081, 1082, 1084,\n",
       "        1086, 1087, 1088, 1091, 1092, 1094, 1103, 1113, 1124, 1127, 1139,\n",
       "        1164, 1166, 1167, 1168, 1169, 1170, 1171, 1175, 1176, 1177, 1181,\n",
       "        1193, 1195, 1198, 1200, 1204, 1209, 1213, 1214, 1217, 1221, 1227,\n",
       "        1243, 1253, 1256, 1266, 1277, 1282, 1285, 1289, 1296, 1299, 1318,\n",
       "        1319, 1322, 1330, 1344, 1346, 1356, 1361, 1404, 1412, 1414, 1418,\n",
       "        1421, 1423, 1427, 1435, 1441, 1444, 1445, 1449, 1453, 1461, 1462,\n",
       "        1472, 1478, 1482, 1483, 1484, 1486, 1487, 1488, 1490, 1491, 1503,\n",
       "        1504, 1509, 1518, 1533, 1537, 1541, 1542, 1546, 1549, 1554, 1558,\n",
       "        1560, 1562, 1575, 1578, 1579, 1582, 1587, 1588, 1592, 1596, 1599,\n",
       "        1603, 1605, 1606, 1607, 1609, 1611, 1621, 1627, 1628, 1632, 1638,\n",
       "        1642, 1643, 1646, 1648, 1656, 1659, 1663, 1667, 1671, 1675, 1676,\n",
       "        1681, 1682, 1684, 1690, 1693, 1695, 1705, 1713, 1717, 1718, 1720,\n",
       "        1723, 1729, 1734, 1736, 1739, 1741, 1758, 1762, 1770, 1775, 1779,\n",
       "        1780, 1781, 1782, 1790, 1800, 1801, 1805, 1825, 1826, 1831, 1835,\n",
       "        1839, 1844, 1847, 1848, 1853, 1856, 1859, 1861, 1867, 1872, 1883,\n",
       "        1890, 1891, 1892, 1898, 1907, 1915, 1917, 1923, 1924, 1935, 1942,\n",
       "        1956, 1961, 1963, 1972, 1981, 1982, 1984, 1987, 1996, 2005, 2010,\n",
       "        2014, 2022, 2030, 2037, 2044, 2050, 2054, 2059, 2060, 2073, 2074,\n",
       "        2075, 2076, 2080, 2084, 2088, 2090, 2095, 2104, 2119, 2136, 2142,\n",
       "        2150, 2153, 2156, 2158, 2193, 2198, 2199, 2210, 2221, 2225, 2226,\n",
       "        2239, 2240, 2246, 2249, 2253, 2262, 2265, 2274, 2280, 2289, 2296,\n",
       "        2301, 2303, 2307, 2310, 2314, 2316, 2318, 2322, 2349, 2350, 2353,\n",
       "        2354, 2367, 2368, 2374, 2376, 2377, 2379, 2380, 2384, 2386, 2387,\n",
       "        2388, 2393, 2395, 2399, 2400, 2414, 2415, 2420, 2433, 2434, 2453,\n",
       "        2454, 2455, 2457, 2458, 2459, 2470, 2472, 2486, 2487, 2494, 2495,\n",
       "        2505, 2506, 2514]),)"
      ]
     },
     "execution_count": 14,
     "metadata": {
      "tags": []
     },
     "output_type": "execute_result"
    }
   ],
   "source": [
    "np.where(data['user_location'].isnull())"
   ]
  },
  {
   "cell_type": "code",
   "execution_count": 15,
   "metadata": {
    "colab": {
     "base_uri": "https://localhost:8080/"
    },
    "id": "aiRcMV155BwN",
    "outputId": "df313e9d-4fbe-4b45-f6a7-642b0930f205"
   },
   "outputs": [
    {
     "data": {
      "text/plain": [
       "(array([  20,   46,   59,   78,   97,  121,  141,  144,  148,  153,  161,\n",
       "         208,  213,  219,  230,  261,  309,  344,  373,  378,  379,  380,\n",
       "         381,  383,  389,  398,  401,  405,  428,  465,  466,  498,  505,\n",
       "         567,  591,  617,  636,  683,  694,  697,  751,  753,  790,  791,\n",
       "         804,  813,  832,  833,  842,  849,  850,  863,  884,  893,  895,\n",
       "        1039, 1041, 1089, 1127, 1138, 1162, 1167, 1170, 1176, 1177, 1195,\n",
       "        1231, 1277, 1315, 1344, 1423, 1431, 1483, 1491, 1502, 1533, 1549,\n",
       "        1609, 1611, 1621, 1623, 1626, 1678, 1693, 1695, 1713, 1716, 1770,\n",
       "        1771, 1805, 1837, 1847, 1848, 1861, 1892, 1912, 1936, 1959, 1961,\n",
       "        2036, 2044, 2076, 2080, 2090, 2094, 2095, 2110, 2142, 2165, 2199,\n",
       "        2212, 2240, 2269, 2270, 2274, 2279, 2311, 2319, 2354, 2368, 2405,\n",
       "        2415, 2453, 2472]),)"
      ]
     },
     "execution_count": 15,
     "metadata": {
      "tags": []
     },
     "output_type": "execute_result"
    }
   ],
   "source": [
    "np.where(data['user_description'].isnull())"
   ]
  },
  {
   "cell_type": "code",
   "execution_count": 16,
   "metadata": {
    "colab": {
     "base_uri": "https://localhost:8080/"
    },
    "id": "UMneskBE5GKw",
    "outputId": "3dae7608-254e-4444-d53f-7ecbb8a00cf5"
   },
   "outputs": [
    {
     "data": {
      "text/plain": [
       "(array([   1,    3,    5,   12,   14,   23,   31,   33,   39,   49,   52,\n",
       "          56,   60,   66,   69,   71,   76,   77,   80,   81,   88,   99,\n",
       "         105,  112,  113,  115,  123,  124,  126,  133,  134,  135,  139,\n",
       "         151,  154,  161,  162,  166,  169,  177,  178,  186,  187,  189,\n",
       "         202,  203,  208,  212,  213,  214,  215,  218,  221,  222,  223,\n",
       "         231,  235,  236,  237,  243,  244,  249,  257,  262,  263,  264,\n",
       "         269,  271,  275,  279,  280,  285,  286,  292,  294,  295,  296,\n",
       "         304,  309,  313,  314,  315,  316,  317,  322,  324,  331,  334,\n",
       "         337,  338,  339,  344,  347,  349,  350,  361,  370,  373,  375,\n",
       "         377,  378,  379,  380,  381,  395,  401,  402,  404,  411,  415,\n",
       "         419,  432,  440,  443,  448,  452,  455,  462,  468,  472,  476,\n",
       "         486,  489,  496,  498,  504,  506,  508,  511,  514,  522,  525,\n",
       "         526,  530,  531,  532,  533,  538,  540,  541,  542,  543,  544,\n",
       "         547,  552,  555,  556,  557,  560,  562,  571,  574,  577,  580,\n",
       "         582,  591,  597,  598,  599,  600,  601,  605,  607,  617,  618,\n",
       "         625,  629,  632,  633,  637,  638,  641,  644,  647,  648,  655,\n",
       "         656,  657,  658,  664,  665,  666,  668,  673,  677,  681,  682,\n",
       "         685,  688,  689,  693,  696,  697,  705,  707,  713,  719,  721,\n",
       "         723,  725,  727,  736,  749,  751,  754,  755,  758,  760,  763,\n",
       "         764,  765,  766,  767,  768,  769,  770,  771,  772,  773,  774,\n",
       "         775,  777,  778,  779,  780,  781,  787,  790,  792,  795,  803,\n",
       "         805,  806,  816,  817,  818,  819,  820,  821,  823,  825,  832,\n",
       "         833,  842,  844,  850,  852,  856,  860,  861,  863,  866,  871,\n",
       "         874,  876,  879,  881,  883,  887,  894,  895,  897,  899,  903,\n",
       "         904,  905,  906,  907,  912,  915,  917,  922,  928,  933,  947,\n",
       "         956,  957,  962,  973,  977,  983,  986,  996, 1000, 1003, 1009,\n",
       "        1010, 1012, 1021, 1033, 1038, 1041, 1042, 1049, 1052, 1054, 1059,\n",
       "        1069, 1070, 1074, 1078, 1079, 1088, 1093, 1100, 1102, 1108, 1109,\n",
       "        1115, 1120, 1122, 1126, 1140, 1159, 1171, 1173, 1183, 1188, 1197,\n",
       "        1208, 1209, 1213, 1214, 1217, 1224, 1225, 1226, 1231, 1236, 1246,\n",
       "        1247, 1261, 1276, 1278, 1281, 1283, 1295, 1300, 1313, 1316, 1323,\n",
       "        1332, 1333, 1334, 1339, 1340, 1343, 1346, 1347, 1349, 1351, 1356,\n",
       "        1359, 1360, 1363, 1364, 1368, 1372, 1380, 1384, 1386, 1392, 1394,\n",
       "        1408, 1420, 1425, 1426, 1432, 1434, 1454, 1460, 1463, 1466, 1472,\n",
       "        1476, 1477, 1479, 1483, 1485, 1486, 1487, 1493, 1495, 1503, 1506,\n",
       "        1509, 1511, 1517, 1520, 1523, 1525, 1528, 1534, 1540, 1554, 1557,\n",
       "        1562, 1564, 1565, 1566, 1567, 1583, 1596, 1598, 1600, 1610, 1612,\n",
       "        1613, 1619, 1628, 1631, 1641, 1648, 1652, 1655, 1656, 1665, 1667,\n",
       "        1672, 1679, 1681, 1687, 1688, 1692, 1696, 1699, 1700, 1702, 1704,\n",
       "        1715, 1717, 1727, 1732, 1735, 1737, 1742, 1744, 1750, 1756, 1768,\n",
       "        1789, 1794, 1803, 1809, 1810, 1812, 1817, 1822, 1826, 1831, 1834,\n",
       "        1837, 1843, 1844, 1845, 1851, 1852, 1858, 1860, 1865, 1868, 1871,\n",
       "        1879, 1884, 1889, 1892, 1893, 1894, 1898, 1900, 1911, 1915, 1920,\n",
       "        1927, 1930, 1931, 1933, 1942, 1945, 1952, 1953, 1954, 1957, 1958,\n",
       "        1963, 1964, 1966, 1967, 1975, 1978, 1986, 1994, 1998, 1999, 2001,\n",
       "        2002, 2007, 2012, 2016, 2021, 2026, 2031, 2046, 2047, 2053, 2054,\n",
       "        2056, 2060, 2074, 2085, 2097, 2098, 2109, 2111, 2112, 2113, 2116,\n",
       "        2118, 2120, 2122, 2125, 2131, 2133, 2134, 2135, 2137, 2140, 2141,\n",
       "        2147, 2150, 2152, 2156, 2159, 2160, 2161, 2165, 2170, 2171, 2172,\n",
       "        2185, 2186, 2199, 2203, 2206, 2211, 2212, 2213, 2218, 2219, 2220,\n",
       "        2223, 2225, 2227, 2240, 2241, 2245, 2246, 2251, 2252, 2257, 2259,\n",
       "        2260, 2261, 2262, 2273, 2277, 2281, 2282, 2284, 2287, 2289, 2291,\n",
       "        2292, 2296, 2298, 2304, 2311, 2314, 2319, 2324, 2325, 2327, 2329,\n",
       "        2337, 2339, 2345, 2349, 2350, 2351, 2352, 2356, 2357, 2362, 2367,\n",
       "        2368, 2369, 2375, 2381, 2385, 2390, 2393, 2395, 2406, 2417, 2419,\n",
       "        2426, 2428, 2429, 2430, 2434, 2436, 2437, 2441, 2443, 2445, 2450,\n",
       "        2451, 2456, 2461, 2462, 2463, 2465, 2466, 2474, 2484, 2485, 2487,\n",
       "        2493, 2495, 2498, 2501, 2507, 2508, 2509]),)"
      ]
     },
     "execution_count": 16,
     "metadata": {
      "tags": []
     },
     "output_type": "execute_result"
    }
   ],
   "source": [
    "np.where(data['hashtags'].isnull())"
   ]
  },
  {
   "cell_type": "code",
   "execution_count": 17,
   "metadata": {
    "colab": {
     "base_uri": "https://localhost:8080/"
    },
    "id": "2ilz4Nmp5Mxg",
    "outputId": "a432cca0-5d1a-4339-a32e-0eb242b3a6db"
   },
   "outputs": [
    {
     "data": {
      "text/plain": [
       "(array([1839]),)"
      ]
     },
     "execution_count": 17,
     "metadata": {
      "tags": []
     },
     "output_type": "execute_result"
    }
   ],
   "source": [
    "np.where(data['source'].isnull())"
   ]
  },
  {
   "cell_type": "code",
   "execution_count": 18,
   "metadata": {
    "colab": {
     "base_uri": "https://localhost:8080/"
    },
    "id": "9I_Fw_3u5SaS",
    "outputId": "0f40d008-c982-4cd1-f9b5-a3ac33671e2b"
   },
   "outputs": [
    {
     "data": {
      "text/plain": [
       "['user_location', 'user_description', 'hashtags', 'source']"
      ]
     },
     "execution_count": 18,
     "metadata": {
      "tags": []
     },
     "output_type": "execute_result"
    }
   ],
   "source": [
    "null_value_columns"
   ]
  },
  {
   "cell_type": "code",
   "execution_count": 19,
   "metadata": {
    "id": "SF50OtmW7IPJ"
   },
   "outputs": [],
   "source": [
    "data['user_location'] = data['user_location'].fillna(\"Location Unavailable\")\n",
    "data['user_description'] = data['user_description'].fillna(\"User Description Unavailable\")\n",
    "data['hashtags'] = data['hashtags'].fillna(\"Hashtags Unavailable\")\n",
    "data['source'] = data['source'].fillna(\"Source Unavailable\")"
   ]
  },
  {
   "cell_type": "code",
   "execution_count": 20,
   "metadata": {
    "colab": {
     "base_uri": "https://localhost:8080/"
    },
    "id": "MoWkcJMn8SfF",
    "outputId": "af8a6a1e-5601-4f4d-d2f8-55ec7a64e31f"
   },
   "outputs": [
    {
     "data": {
      "text/plain": [
       "id                  False\n",
       "user_name           False\n",
       "user_location       False\n",
       "user_description    False\n",
       "user_created        False\n",
       "user_followers      False\n",
       "user_friends        False\n",
       "user_favourites     False\n",
       "user_verified       False\n",
       "date                False\n",
       "text                False\n",
       "hashtags            False\n",
       "source              False\n",
       "retweets            False\n",
       "favorites           False\n",
       "is_retweet          False\n",
       "dtype: bool"
      ]
     },
     "execution_count": 20,
     "metadata": {
      "tags": []
     },
     "output_type": "execute_result"
    }
   ],
   "source": [
    "data.isnull().any()"
   ]
  },
  {
   "cell_type": "code",
   "execution_count": 21,
   "metadata": {
    "colab": {
     "base_uri": "https://localhost:8080/"
    },
    "id": "tmOWmLNl8We1",
    "outputId": "9bbafad1-908c-4ada-e15a-c3cd7f9f4487"
   },
   "outputs": [
    {
     "data": {
      "text/plain": [
       "id                  0\n",
       "user_name           0\n",
       "user_location       0\n",
       "user_description    0\n",
       "user_created        0\n",
       "user_followers      0\n",
       "user_friends        0\n",
       "user_favourites     0\n",
       "user_verified       0\n",
       "date                0\n",
       "text                0\n",
       "hashtags            0\n",
       "source              0\n",
       "retweets            0\n",
       "favorites           0\n",
       "is_retweet          0\n",
       "dtype: int64"
      ]
     },
     "execution_count": 21,
     "metadata": {
      "tags": []
     },
     "output_type": "execute_result"
    }
   ],
   "source": [
    "data.isnull().sum()"
   ]
  },
  {
   "cell_type": "code",
   "execution_count": 22,
   "metadata": {
    "colab": {
     "base_uri": "https://localhost:8080/",
     "height": 521
    },
    "id": "SDBZFRvu8ZJC",
    "outputId": "4b553f0a-5c34-4878-ed9c-472968aeeacb"
   },
   "outputs": [
    {
     "data": {
      "text/html": [
       "<div>\n",
       "<style scoped>\n",
       "    .dataframe tbody tr th:only-of-type {\n",
       "        vertical-align: middle;\n",
       "    }\n",
       "\n",
       "    .dataframe tbody tr th {\n",
       "        vertical-align: top;\n",
       "    }\n",
       "\n",
       "    .dataframe thead th {\n",
       "        text-align: right;\n",
       "    }\n",
       "</style>\n",
       "<table border=\"1\" class=\"dataframe\">\n",
       "  <thead>\n",
       "    <tr style=\"text-align: right;\">\n",
       "      <th></th>\n",
       "      <th>id</th>\n",
       "      <th>user_name</th>\n",
       "      <th>user_location</th>\n",
       "      <th>user_description</th>\n",
       "      <th>user_created</th>\n",
       "      <th>user_followers</th>\n",
       "      <th>user_friends</th>\n",
       "      <th>user_favourites</th>\n",
       "      <th>user_verified</th>\n",
       "      <th>date</th>\n",
       "      <th>text</th>\n",
       "      <th>hashtags</th>\n",
       "      <th>source</th>\n",
       "      <th>retweets</th>\n",
       "      <th>favorites</th>\n",
       "      <th>is_retweet</th>\n",
       "    </tr>\n",
       "  </thead>\n",
       "  <tbody>\n",
       "    <tr>\n",
       "      <th>0</th>\n",
       "      <td>1340539111971516416</td>\n",
       "      <td>Rachel Roh</td>\n",
       "      <td>La Crescenta-Montrose, CA</td>\n",
       "      <td>Aggregator of Asian American news; scanning di...</td>\n",
       "      <td>2009-04-08 17:52:46</td>\n",
       "      <td>405</td>\n",
       "      <td>1692</td>\n",
       "      <td>3247</td>\n",
       "      <td>False</td>\n",
       "      <td>2020-12-20 06:06:44</td>\n",
       "      <td>Same folks said daikon paste could treat a cyt...</td>\n",
       "      <td>['PfizerBioNTech']</td>\n",
       "      <td>Twitter for Android</td>\n",
       "      <td>0</td>\n",
       "      <td>0</td>\n",
       "      <td>False</td>\n",
       "    </tr>\n",
       "    <tr>\n",
       "      <th>1</th>\n",
       "      <td>1338158543359250433</td>\n",
       "      <td>Albert Fong</td>\n",
       "      <td>San Francisco, CA</td>\n",
       "      <td>Marketing dude, tech geek, heavy metal &amp; '80s ...</td>\n",
       "      <td>2009-09-21 15:27:30</td>\n",
       "      <td>834</td>\n",
       "      <td>666</td>\n",
       "      <td>178</td>\n",
       "      <td>False</td>\n",
       "      <td>2020-12-13 16:27:13</td>\n",
       "      <td>While the world has been on the wrong side of ...</td>\n",
       "      <td>Hashtags Unavailable</td>\n",
       "      <td>Twitter Web App</td>\n",
       "      <td>1</td>\n",
       "      <td>1</td>\n",
       "      <td>False</td>\n",
       "    </tr>\n",
       "    <tr>\n",
       "      <th>2</th>\n",
       "      <td>1337858199140118533</td>\n",
       "      <td>eli🇱🇹🇪🇺👌</td>\n",
       "      <td>Your Bed</td>\n",
       "      <td>heil, hydra 🖐☺</td>\n",
       "      <td>2020-06-25 23:30:28</td>\n",
       "      <td>10</td>\n",
       "      <td>88</td>\n",
       "      <td>155</td>\n",
       "      <td>False</td>\n",
       "      <td>2020-12-12 20:33:45</td>\n",
       "      <td>#coronavirus #SputnikV #AstraZeneca #PfizerBio...</td>\n",
       "      <td>['coronavirus', 'SputnikV', 'AstraZeneca', 'Pf...</td>\n",
       "      <td>Twitter for Android</td>\n",
       "      <td>0</td>\n",
       "      <td>0</td>\n",
       "      <td>False</td>\n",
       "    </tr>\n",
       "    <tr>\n",
       "      <th>3</th>\n",
       "      <td>1337855739918835717</td>\n",
       "      <td>Charles Adler</td>\n",
       "      <td>Vancouver, BC - Canada</td>\n",
       "      <td>Hosting \"CharlesAdlerTonight\" Global News Radi...</td>\n",
       "      <td>2008-09-10 11:28:53</td>\n",
       "      <td>49165</td>\n",
       "      <td>3933</td>\n",
       "      <td>21853</td>\n",
       "      <td>True</td>\n",
       "      <td>2020-12-12 20:23:59</td>\n",
       "      <td>Facts are immutable, Senator, even when you're...</td>\n",
       "      <td>Hashtags Unavailable</td>\n",
       "      <td>Twitter Web App</td>\n",
       "      <td>446</td>\n",
       "      <td>2129</td>\n",
       "      <td>False</td>\n",
       "    </tr>\n",
       "    <tr>\n",
       "      <th>4</th>\n",
       "      <td>1337854064604966912</td>\n",
       "      <td>Citizen News Channel</td>\n",
       "      <td>Location Unavailable</td>\n",
       "      <td>Citizen News Channel bringing you an alternati...</td>\n",
       "      <td>2020-04-23 17:58:42</td>\n",
       "      <td>152</td>\n",
       "      <td>580</td>\n",
       "      <td>1473</td>\n",
       "      <td>False</td>\n",
       "      <td>2020-12-12 20:17:19</td>\n",
       "      <td>Explain to me again why we need a vaccine @Bor...</td>\n",
       "      <td>['whereareallthesickpeople', 'PfizerBioNTech']</td>\n",
       "      <td>Twitter for iPhone</td>\n",
       "      <td>0</td>\n",
       "      <td>0</td>\n",
       "      <td>False</td>\n",
       "    </tr>\n",
       "  </tbody>\n",
       "</table>\n",
       "</div>"
      ],
      "text/plain": [
       "                    id             user_name  ... favorites is_retweet\n",
       "0  1340539111971516416            Rachel Roh  ...         0      False\n",
       "1  1338158543359250433           Albert Fong  ...         1      False\n",
       "2  1337858199140118533              eli🇱🇹🇪🇺👌  ...         0      False\n",
       "3  1337855739918835717         Charles Adler  ...      2129      False\n",
       "4  1337854064604966912  Citizen News Channel  ...         0      False\n",
       "\n",
       "[5 rows x 16 columns]"
      ]
     },
     "execution_count": 22,
     "metadata": {
      "tags": []
     },
     "output_type": "execute_result"
    }
   ],
   "source": [
    "data.head()"
   ]
  },
  {
   "cell_type": "code",
   "execution_count": 23,
   "metadata": {
    "colab": {
     "base_uri": "https://localhost:8080/"
    },
    "id": "eIj2cgI28pYG",
    "outputId": "eaff21b1-a3d8-4cb2-ff77-11f5d2949c77"
   },
   "outputs": [
    {
     "data": {
      "text/plain": [
       "(2518, 16)"
      ]
     },
     "execution_count": 23,
     "metadata": {
      "tags": []
     },
     "output_type": "execute_result"
    }
   ],
   "source": [
    "data.shape"
   ]
  },
  {
   "cell_type": "code",
   "execution_count": 24,
   "metadata": {
    "colab": {
     "base_uri": "https://localhost:8080/"
    },
    "id": "rjrb_uzN8u_C",
    "outputId": "70285fe6-2bb8-4e00-eb05-161540f27855"
   },
   "outputs": [
    {
     "name": "stdout",
     "output_type": "stream",
     "text": [
      "Number of unique values in id is =  2518\n",
      "Number of unique values in user_name is =  1704\n",
      "Number of unique values in user_location is =  876\n",
      "Number of unique values in user_description is =  1614\n",
      "Number of unique values in user_created is =  1703\n",
      "Number of unique values in user_followers is =  1307\n",
      "Number of unique values in user_friends is =  1157\n",
      "Number of unique values in user_favourites is =  1616\n",
      "Number of unique values in user_verified is =  2\n",
      "Number of unique values in date is =  2516\n",
      "Number of unique values in text is =  2518\n",
      "Number of unique values in hashtags is =  1192\n",
      "Number of unique values in source is =  27\n",
      "Number of unique values in retweets is =  42\n",
      "Number of unique values in favorites is =  115\n",
      "Number of unique values in is_retweet is =  1\n"
     ]
    }
   ],
   "source": [
    "for i in columns:\n",
    "  print(\"Number of unique values in\", i, \"is = \", len(np.unique(data[i])))"
   ]
  },
  {
   "cell_type": "markdown",
   "metadata": {
    "id": "RCcJeWwCIH8s"
   },
   "source": [
    "# DATA VISUALIZATION"
   ]
  },
  {
   "cell_type": "code",
   "execution_count": 25,
   "metadata": {
    "colab": {
     "base_uri": "https://localhost:8080/",
     "height": 296
    },
    "id": "4D1NPMwC9AIP",
    "outputId": "6a5f594f-f56b-4972-cd05-0363b1e53796"
   },
   "outputs": [
    {
     "data": {
      "text/plain": [
       "<matplotlib.collections.PathCollection at 0x7f376fb717d0>"
      ]
     },
     "execution_count": 25,
     "metadata": {
      "tags": []
     },
     "output_type": "execute_result"
    },
    {
     "data": {
      "image/png": "[encoded data removed]",
      "text/plain": [
       "<Figure size 432x288 with 1 Axes>"
      ]
     },
     "metadata": {
      "needs_background": "light",
      "tags": []
     },
     "output_type": "display_data"
    }
   ],
   "source": [
    "plt.scatter(data['id'], data['user_friends'])"
   ]
  },
  {
   "cell_type": "code",
   "execution_count": 26,
   "metadata": {
    "colab": {
     "base_uri": "https://localhost:8080/",
     "height": 355
    },
    "id": "IjU_W9WUIeRK",
    "outputId": "a2324014-5e8e-4758-8ae3-b58acbea493e"
   },
   "outputs": [
    {
     "name": "stderr",
     "output_type": "stream",
     "text": [
      "/usr/local/lib/python3.7/dist-packages/seaborn/_decorators.py:43: FutureWarning: Pass the following variable as a keyword arg: x. From version 0.12, the only valid positional argument will be `data`, and passing other arguments without an explicit keyword will result in an error or misinterpretation.\n",
      "  FutureWarning\n"
     ]
    },
    {
     "data": {
      "text/plain": [
       "<matplotlib.axes._subplots.AxesSubplot at 0x7f376fb9f750>"
      ]
     },
     "execution_count": 26,
     "metadata": {
      "tags": []
     },
     "output_type": "execute_result"
    },
    {
     "data": {
      "image/png": "[encoded data removed]",
      "text/plain": [
       "<Figure size 432x288 with 1 Axes>"
      ]
     },
     "metadata": {
      "needs_background": "light",
      "tags": []
     },
     "output_type": "display_data"
    }
   ],
   "source": [
    "sns.boxplot(data['user_friends'])"
   ]
  },
  {
   "cell_type": "code",
   "execution_count": 27,
   "metadata": {
    "colab": {
     "base_uri": "https://localhost:8080/",
     "height": 307
    },
    "id": "KW4owrdNI3xT",
    "outputId": "81fc7a4e-3540-431b-8e23-dcb69c69a63c"
   },
   "outputs": [
    {
     "data": {
      "text/plain": [
       "<matplotlib.collections.PathCollection at 0x7f376faf3690>"
      ]
     },
     "execution_count": 27,
     "metadata": {
      "tags": []
     },
     "output_type": "execute_result"
    },
    {
     "data": {
      "image/png": "[encoded data removed]",
      "text/plain": [
       "<Figure size 432x288 with 1 Axes>"
      ]
     },
     "metadata": {
      "needs_background": "light",
      "tags": []
     },
     "output_type": "display_data"
    }
   ],
   "source": [
    "plt.scatter(data['id'], data['user_followers'])"
   ]
  },
  {
   "cell_type": "code",
   "execution_count": 28,
   "metadata": {
    "colab": {
     "base_uri": "https://localhost:8080/",
     "height": 355
    },
    "id": "7MxiLhliJOJ1",
    "outputId": "cd4a0c3b-220e-42b5-f6ac-ee2885cc4d6d"
   },
   "outputs": [
    {
     "name": "stderr",
     "output_type": "stream",
     "text": [
      "/usr/local/lib/python3.7/dist-packages/seaborn/_decorators.py:43: FutureWarning: Pass the following variable as a keyword arg: x. From version 0.12, the only valid positional argument will be `data`, and passing other arguments without an explicit keyword will result in an error or misinterpretation.\n",
      "  FutureWarning\n"
     ]
    },
    {
     "data": {
      "text/plain": [
       "<matplotlib.axes._subplots.AxesSubplot at 0x7f376fa8f3d0>"
      ]
     },
     "execution_count": 28,
     "metadata": {
      "tags": []
     },
     "output_type": "execute_result"
    },
    {
     "data": {
      "image/png": "[encoded data removed]",
      "text/plain": [
       "<Figure size 432x288 with 1 Axes>"
      ]
     },
     "metadata": {
      "needs_background": "light",
      "tags": []
     },
     "output_type": "display_data"
    }
   ],
   "source": [
    "sns.boxplot(data['user_followers'])"
   ]
  },
  {
   "cell_type": "code",
   "execution_count": 29,
   "metadata": {
    "colab": {
     "base_uri": "https://localhost:8080/",
     "height": 296
    },
    "id": "qMe4vJwyJSOa",
    "outputId": "9210700e-9384-4b94-cb30-d70e76a50ab3"
   },
   "outputs": [
    {
     "data": {
      "text/plain": [
       "<matplotlib.collections.PathCollection at 0x7f376fa4efd0>"
      ]
     },
     "execution_count": 29,
     "metadata": {
      "tags": []
     },
     "output_type": "execute_result"
    },
    {
     "data": {
      "image/png": "[encoded data removed]",
      "text/plain": [
       "<Figure size 432x288 with 1 Axes>"
      ]
     },
     "metadata": {
      "needs_background": "light",
      "tags": []
     },
     "output_type": "display_data"
    }
   ],
   "source": [
    "plt.scatter(data['id'], data['retweets'])"
   ]
  },
  {
   "cell_type": "code",
   "execution_count": 30,
   "metadata": {
    "colab": {
     "base_uri": "https://localhost:8080/",
     "height": 296
    },
    "id": "_HRFNfr_J0aL",
    "outputId": "293fbfac-6ce2-43ca-dc16-201d61cba696"
   },
   "outputs": [
    {
     "data": {
      "text/plain": [
       "<matplotlib.collections.PathCollection at 0x7f37700729d0>"
      ]
     },
     "execution_count": 30,
     "metadata": {
      "tags": []
     },
     "output_type": "execute_result"
    },
    {
     "data": {
      "image/png": "[encoded data removed]",
      "text/plain": [
       "<Figure size 432x288 with 1 Axes>"
      ]
     },
     "metadata": {
      "needs_background": "light",
      "tags": []
     },
     "output_type": "display_data"
    }
   ],
   "source": [
    "plt.scatter(data['id'], data['is_retweet'])"
   ]
  },
  {
   "cell_type": "code",
   "execution_count": 31,
   "metadata": {
    "colab": {
     "base_uri": "https://localhost:8080/"
    },
    "id": "zXstQ3QGJ7bL",
    "outputId": "48ed629a-80fc-4af3-fa6e-1b2c324ecfaf"
   },
   "outputs": [
    {
     "data": {
      "text/plain": [
       "array([False])"
      ]
     },
     "execution_count": 31,
     "metadata": {
      "tags": []
     },
     "output_type": "execute_result"
    }
   ],
   "source": [
    "np.unique(data['is_retweet'])"
   ]
  },
  {
   "cell_type": "code",
   "execution_count": 32,
   "metadata": {
    "colab": {
     "base_uri": "https://localhost:8080/"
    },
    "id": "VIrjnHPGKLFR",
    "outputId": "279f9ac9-0778-41af-9ad0-7fcf163880e9"
   },
   "outputs": [
    {
     "data": {
      "text/plain": [
       "array([       0,        1,        2, ...,  6569222, 10739398, 13714928])"
      ]
     },
     "execution_count": 32,
     "metadata": {
      "tags": []
     },
     "output_type": "execute_result"
    }
   ],
   "source": [
    "np.unique(data['user_followers'])"
   ]
  },
  {
   "cell_type": "code",
   "execution_count": 33,
   "metadata": {
    "colab": {
     "base_uri": "https://localhost:8080/",
     "height": 298
    },
    "id": "Oz-41bqnKWEU",
    "outputId": "22a3154a-8024-49d5-ecf3-6a7c20e1bb84"
   },
   "outputs": [
    {
     "data": {
      "text/plain": [
       "<matplotlib.axes._subplots.AxesSubplot at 0x7f376f9a6f90>"
      ]
     },
     "execution_count": 33,
     "metadata": {
      "tags": []
     },
     "output_type": "execute_result"
    },
    {
     "data": {
      "image/png": "[encoded data removed]",
      "text/plain": [
       "<Figure size 432x288 with 1 Axes>"
      ]
     },
     "metadata": {
      "needs_background": "light",
      "tags": []
     },
     "output_type": "display_data"
    }
   ],
   "source": [
    "sns.violinplot(x='user_followers', data=data)"
   ]
  },
  {
   "cell_type": "code",
   "execution_count": 34,
   "metadata": {
    "colab": {
     "base_uri": "https://localhost:8080/",
     "height": 298
    },
    "id": "PvGbe-VEKqjs",
    "outputId": "92a78fa4-f31a-4740-e3ef-42c70e5ce872"
   },
   "outputs": [
    {
     "data": {
      "text/plain": [
       "<matplotlib.axes._subplots.AxesSubplot at 0x7f376d90ed10>"
      ]
     },
     "execution_count": 34,
     "metadata": {
      "tags": []
     },
     "output_type": "execute_result"
    },
    {
     "data": {
      "image/png": "[encoded data removed]",
      "text/plain": [
       "<Figure size 432x288 with 1 Axes>"
      ]
     },
     "metadata": {
      "needs_background": "light",
      "tags": []
     },
     "output_type": "display_data"
    }
   ],
   "source": [
    "sns.violinplot(x='user_friends', data=data)"
   ]
  },
  {
   "cell_type": "markdown",
   "metadata": {
    "id": "a5pbJUabK-qp"
   },
   "source": [
    "Encoding OBJECT type data into INT type data"
   ]
  },
  {
   "cell_type": "code",
   "execution_count": 35,
   "metadata": {
    "colab": {
     "base_uri": "https://localhost:8080/",
     "height": 521
    },
    "id": "UO2YwsAILs5l",
    "outputId": "70bd2d27-a441-4778-f06d-36335b353503"
   },
   "outputs": [
    {
     "data": {
      "text/html": [
       "<div>\n",
       "<style scoped>\n",
       "    .dataframe tbody tr th:only-of-type {\n",
       "        vertical-align: middle;\n",
       "    }\n",
       "\n",
       "    .dataframe tbody tr th {\n",
       "        vertical-align: top;\n",
       "    }\n",
       "\n",
       "    .dataframe thead th {\n",
       "        text-align: right;\n",
       "    }\n",
       "</style>\n",
       "<table border=\"1\" class=\"dataframe\">\n",
       "  <thead>\n",
       "    <tr style=\"text-align: right;\">\n",
       "      <th></th>\n",
       "      <th>id</th>\n",
       "      <th>user_name</th>\n",
       "      <th>user_location</th>\n",
       "      <th>user_description</th>\n",
       "      <th>user_created</th>\n",
       "      <th>user_followers</th>\n",
       "      <th>user_friends</th>\n",
       "      <th>user_favourites</th>\n",
       "      <th>user_verified</th>\n",
       "      <th>date</th>\n",
       "      <th>text</th>\n",
       "      <th>hashtags</th>\n",
       "      <th>source</th>\n",
       "      <th>retweets</th>\n",
       "      <th>favorites</th>\n",
       "      <th>is_retweet</th>\n",
       "    </tr>\n",
       "  </thead>\n",
       "  <tbody>\n",
       "    <tr>\n",
       "      <th>0</th>\n",
       "      <td>1340539111971516416</td>\n",
       "      <td>Rachel Roh</td>\n",
       "      <td>La Crescenta-Montrose, CA</td>\n",
       "      <td>Aggregator of Asian American news; scanning di...</td>\n",
       "      <td>2009-04-08 17:52:46</td>\n",
       "      <td>405</td>\n",
       "      <td>1692</td>\n",
       "      <td>3247</td>\n",
       "      <td>False</td>\n",
       "      <td>2020-12-20 06:06:44</td>\n",
       "      <td>Same folks said daikon paste could treat a cyt...</td>\n",
       "      <td>['PfizerBioNTech']</td>\n",
       "      <td>Twitter for Android</td>\n",
       "      <td>0</td>\n",
       "      <td>0</td>\n",
       "      <td>False</td>\n",
       "    </tr>\n",
       "    <tr>\n",
       "      <th>1</th>\n",
       "      <td>1338158543359250433</td>\n",
       "      <td>Albert Fong</td>\n",
       "      <td>San Francisco, CA</td>\n",
       "      <td>Marketing dude, tech geek, heavy metal &amp; '80s ...</td>\n",
       "      <td>2009-09-21 15:27:30</td>\n",
       "      <td>834</td>\n",
       "      <td>666</td>\n",
       "      <td>178</td>\n",
       "      <td>False</td>\n",
       "      <td>2020-12-13 16:27:13</td>\n",
       "      <td>While the world has been on the wrong side of ...</td>\n",
       "      <td>Hashtags Unavailable</td>\n",
       "      <td>Twitter Web App</td>\n",
       "      <td>1</td>\n",
       "      <td>1</td>\n",
       "      <td>False</td>\n",
       "    </tr>\n",
       "    <tr>\n",
       "      <th>2</th>\n",
       "      <td>1337858199140118533</td>\n",
       "      <td>eli🇱🇹🇪🇺👌</td>\n",
       "      <td>Your Bed</td>\n",
       "      <td>heil, hydra 🖐☺</td>\n",
       "      <td>2020-06-25 23:30:28</td>\n",
       "      <td>10</td>\n",
       "      <td>88</td>\n",
       "      <td>155</td>\n",
       "      <td>False</td>\n",
       "      <td>2020-12-12 20:33:45</td>\n",
       "      <td>#coronavirus #SputnikV #AstraZeneca #PfizerBio...</td>\n",
       "      <td>['coronavirus', 'SputnikV', 'AstraZeneca', 'Pf...</td>\n",
       "      <td>Twitter for Android</td>\n",
       "      <td>0</td>\n",
       "      <td>0</td>\n",
       "      <td>False</td>\n",
       "    </tr>\n",
       "    <tr>\n",
       "      <th>3</th>\n",
       "      <td>1337855739918835717</td>\n",
       "      <td>Charles Adler</td>\n",
       "      <td>Vancouver, BC - Canada</td>\n",
       "      <td>Hosting \"CharlesAdlerTonight\" Global News Radi...</td>\n",
       "      <td>2008-09-10 11:28:53</td>\n",
       "      <td>49165</td>\n",
       "      <td>3933</td>\n",
       "      <td>21853</td>\n",
       "      <td>True</td>\n",
       "      <td>2020-12-12 20:23:59</td>\n",
       "      <td>Facts are immutable, Senator, even when you're...</td>\n",
       "      <td>Hashtags Unavailable</td>\n",
       "      <td>Twitter Web App</td>\n",
       "      <td>446</td>\n",
       "      <td>2129</td>\n",
       "      <td>False</td>\n",
       "    </tr>\n",
       "    <tr>\n",
       "      <th>4</th>\n",
       "      <td>1337854064604966912</td>\n",
       "      <td>Citizen News Channel</td>\n",
       "      <td>Location Unavailable</td>\n",
       "      <td>Citizen News Channel bringing you an alternati...</td>\n",
       "      <td>2020-04-23 17:58:42</td>\n",
       "      <td>152</td>\n",
       "      <td>580</td>\n",
       "      <td>1473</td>\n",
       "      <td>False</td>\n",
       "      <td>2020-12-12 20:17:19</td>\n",
       "      <td>Explain to me again why we need a vaccine @Bor...</td>\n",
       "      <td>['whereareallthesickpeople', 'PfizerBioNTech']</td>\n",
       "      <td>Twitter for iPhone</td>\n",
       "      <td>0</td>\n",
       "      <td>0</td>\n",
       "      <td>False</td>\n",
       "    </tr>\n",
       "  </tbody>\n",
       "</table>\n",
       "</div>"
      ],
      "text/plain": [
       "                    id             user_name  ... favorites is_retweet\n",
       "0  1340539111971516416            Rachel Roh  ...         0      False\n",
       "1  1338158543359250433           Albert Fong  ...         1      False\n",
       "2  1337858199140118533              eli🇱🇹🇪🇺👌  ...         0      False\n",
       "3  1337855739918835717         Charles Adler  ...      2129      False\n",
       "4  1337854064604966912  Citizen News Channel  ...         0      False\n",
       "\n",
       "[5 rows x 16 columns]"
      ]
     },
     "execution_count": 35,
     "metadata": {
      "tags": []
     },
     "output_type": "execute_result"
    }
   ],
   "source": [
    "data.head()"
   ]
  },
  {
   "cell_type": "code",
   "execution_count": 36,
   "metadata": {
    "id": "iWGkrqyJK379"
   },
   "outputs": [],
   "source": [
    "from sklearn.preprocessing import LabelEncoder\n",
    "data['user_name'] = LabelEncoder().fit_transform(data['user_name'])\n",
    "data['user_location'] = LabelEncoder().fit_transform(data['user_location'])\n",
    "data['user_description'] = LabelEncoder().fit_transform(data['user_description'])\n",
    "data['hashtags'] = LabelEncoder().fit_transform(data['hashtags'])\n",
    "data['source'] = LabelEncoder().fit_transform(data['source'])"
   ]
  },
  {
   "cell_type": "code",
   "execution_count": 37,
   "metadata": {
    "colab": {
     "base_uri": "https://localhost:8080/",
     "height": 521
    },
    "id": "Q3bbPbwoMUl7",
    "outputId": "1636e2c3-4918-436c-bceb-f6321d621955"
   },
   "outputs": [
    {
     "data": {
      "text/html": [
       "<div>\n",
       "<style scoped>\n",
       "    .dataframe tbody tr th:only-of-type {\n",
       "        vertical-align: middle;\n",
       "    }\n",
       "\n",
       "    .dataframe tbody tr th {\n",
       "        vertical-align: top;\n",
       "    }\n",
       "\n",
       "    .dataframe thead th {\n",
       "        text-align: right;\n",
       "    }\n",
       "</style>\n",
       "<table border=\"1\" class=\"dataframe\">\n",
       "  <thead>\n",
       "    <tr style=\"text-align: right;\">\n",
       "      <th></th>\n",
       "      <th>id</th>\n",
       "      <th>user_name</th>\n",
       "      <th>user_location</th>\n",
       "      <th>user_description</th>\n",
       "      <th>user_created</th>\n",
       "      <th>user_followers</th>\n",
       "      <th>user_friends</th>\n",
       "      <th>user_favourites</th>\n",
       "      <th>user_verified</th>\n",
       "      <th>date</th>\n",
       "      <th>text</th>\n",
       "      <th>hashtags</th>\n",
       "      <th>source</th>\n",
       "      <th>retweets</th>\n",
       "      <th>favorites</th>\n",
       "      <th>is_retweet</th>\n",
       "    </tr>\n",
       "  </thead>\n",
       "  <tbody>\n",
       "    <tr>\n",
       "      <th>0</th>\n",
       "      <td>1340539111971516416</td>\n",
       "      <td>1139</td>\n",
       "      <td>386</td>\n",
       "      <td>140</td>\n",
       "      <td>2009-04-08 17:52:46</td>\n",
       "      <td>405</td>\n",
       "      <td>1692</td>\n",
       "      <td>3247</td>\n",
       "      <td>False</td>\n",
       "      <td>2020-12-20 06:06:44</td>\n",
       "      <td>Same folks said daikon paste could treat a cyt...</td>\n",
       "      <td>754</td>\n",
       "      <td>23</td>\n",
       "      <td>0</td>\n",
       "      <td>0</td>\n",
       "      <td>False</td>\n",
       "    </tr>\n",
       "    <tr>\n",
       "      <th>1</th>\n",
       "      <td>1338158543359250433</td>\n",
       "      <td>63</td>\n",
       "      <td>647</td>\n",
       "      <td>867</td>\n",
       "      <td>2009-09-21 15:27:30</td>\n",
       "      <td>834</td>\n",
       "      <td>666</td>\n",
       "      <td>178</td>\n",
       "      <td>False</td>\n",
       "      <td>2020-12-13 16:27:13</td>\n",
       "      <td>While the world has been on the wrong side of ...</td>\n",
       "      <td>0</td>\n",
       "      <td>22</td>\n",
       "      <td>1</td>\n",
       "      <td>1</td>\n",
       "      <td>False</td>\n",
       "    </tr>\n",
       "    <tr>\n",
       "      <th>2</th>\n",
       "      <td>1337858199140118533</td>\n",
       "      <td>1570</td>\n",
       "      <td>823</td>\n",
       "      <td>1483</td>\n",
       "      <td>2020-06-25 23:30:28</td>\n",
       "      <td>10</td>\n",
       "      <td>88</td>\n",
       "      <td>155</td>\n",
       "      <td>False</td>\n",
       "      <td>2020-12-12 20:33:45</td>\n",
       "      <td>#coronavirus #SputnikV #AstraZeneca #PfizerBio...</td>\n",
       "      <td>986</td>\n",
       "      <td>23</td>\n",
       "      <td>0</td>\n",
       "      <td>0</td>\n",
       "      <td>False</td>\n",
       "    </tr>\n",
       "    <tr>\n",
       "      <th>3</th>\n",
       "      <td>1337855739918835717</td>\n",
       "      <td>244</td>\n",
       "      <td>779</td>\n",
       "      <td>602</td>\n",
       "      <td>2008-09-10 11:28:53</td>\n",
       "      <td>49165</td>\n",
       "      <td>3933</td>\n",
       "      <td>21853</td>\n",
       "      <td>True</td>\n",
       "      <td>2020-12-12 20:23:59</td>\n",
       "      <td>Facts are immutable, Senator, even when you're...</td>\n",
       "      <td>0</td>\n",
       "      <td>22</td>\n",
       "      <td>446</td>\n",
       "      <td>2129</td>\n",
       "      <td>False</td>\n",
       "    </tr>\n",
       "    <tr>\n",
       "      <th>4</th>\n",
       "      <td>1337854064604966912</td>\n",
       "      <td>267</td>\n",
       "      <td>407</td>\n",
       "      <td>304</td>\n",
       "      <td>2020-04-23 17:58:42</td>\n",
       "      <td>152</td>\n",
       "      <td>580</td>\n",
       "      <td>1473</td>\n",
       "      <td>False</td>\n",
       "      <td>2020-12-12 20:17:19</td>\n",
       "      <td>Explain to me again why we need a vaccine @Bor...</td>\n",
       "      <td>1187</td>\n",
       "      <td>26</td>\n",
       "      <td>0</td>\n",
       "      <td>0</td>\n",
       "      <td>False</td>\n",
       "    </tr>\n",
       "  </tbody>\n",
       "</table>\n",
       "</div>"
      ],
      "text/plain": [
       "                    id  user_name  ...  favorites  is_retweet\n",
       "0  1340539111971516416       1139  ...          0       False\n",
       "1  1338158543359250433         63  ...          1       False\n",
       "2  1337858199140118533       1570  ...          0       False\n",
       "3  1337855739918835717        244  ...       2129       False\n",
       "4  1337854064604966912        267  ...          0       False\n",
       "\n",
       "[5 rows x 16 columns]"
      ]
     },
     "execution_count": 37,
     "metadata": {
      "tags": []
     },
     "output_type": "execute_result"
    }
   ],
   "source": [
    "data.head()"
   ]
  },
  {
   "cell_type": "code",
   "execution_count": 38,
   "metadata": {
    "colab": {
     "base_uri": "https://localhost:8080/"
    },
    "id": "7TtPfF3VMZTo",
    "outputId": "f1089e91-f1df-4bec-90ec-fdff09e8896b"
   },
   "outputs": [
    {
     "data": {
      "text/plain": [
       "(2518, 16)"
      ]
     },
     "execution_count": 38,
     "metadata": {
      "tags": []
     },
     "output_type": "execute_result"
    }
   ],
   "source": [
    "data.shape"
   ]
  },
  {
   "cell_type": "code",
   "execution_count": 39,
   "metadata": {
    "id": "D2ZPNUDqMk2-"
   },
   "outputs": [],
   "source": [
    "data.drop('date', axis=1, inplace=True)"
   ]
  },
  {
   "cell_type": "code",
   "execution_count": 40,
   "metadata": {
    "colab": {
     "base_uri": "https://localhost:8080/",
     "height": 521
    },
    "id": "penTwrxDMvlY",
    "outputId": "780a3a8d-e4b5-4781-b9c0-7505c7b7e7ed"
   },
   "outputs": [
    {
     "data": {
      "text/html": [
       "<div>\n",
       "<style scoped>\n",
       "    .dataframe tbody tr th:only-of-type {\n",
       "        vertical-align: middle;\n",
       "    }\n",
       "\n",
       "    .dataframe tbody tr th {\n",
       "        vertical-align: top;\n",
       "    }\n",
       "\n",
       "    .dataframe thead th {\n",
       "        text-align: right;\n",
       "    }\n",
       "</style>\n",
       "<table border=\"1\" class=\"dataframe\">\n",
       "  <thead>\n",
       "    <tr style=\"text-align: right;\">\n",
       "      <th></th>\n",
       "      <th>id</th>\n",
       "      <th>user_name</th>\n",
       "      <th>user_location</th>\n",
       "      <th>user_description</th>\n",
       "      <th>user_created</th>\n",
       "      <th>user_followers</th>\n",
       "      <th>user_friends</th>\n",
       "      <th>user_favourites</th>\n",
       "      <th>user_verified</th>\n",
       "      <th>text</th>\n",
       "      <th>hashtags</th>\n",
       "      <th>source</th>\n",
       "      <th>retweets</th>\n",
       "      <th>favorites</th>\n",
       "      <th>is_retweet</th>\n",
       "    </tr>\n",
       "  </thead>\n",
       "  <tbody>\n",
       "    <tr>\n",
       "      <th>0</th>\n",
       "      <td>1340539111971516416</td>\n",
       "      <td>1139</td>\n",
       "      <td>386</td>\n",
       "      <td>140</td>\n",
       "      <td>2009-04-08 17:52:46</td>\n",
       "      <td>405</td>\n",
       "      <td>1692</td>\n",
       "      <td>3247</td>\n",
       "      <td>False</td>\n",
       "      <td>Same folks said daikon paste could treat a cyt...</td>\n",
       "      <td>754</td>\n",
       "      <td>23</td>\n",
       "      <td>0</td>\n",
       "      <td>0</td>\n",
       "      <td>False</td>\n",
       "    </tr>\n",
       "    <tr>\n",
       "      <th>1</th>\n",
       "      <td>1338158543359250433</td>\n",
       "      <td>63</td>\n",
       "      <td>647</td>\n",
       "      <td>867</td>\n",
       "      <td>2009-09-21 15:27:30</td>\n",
       "      <td>834</td>\n",
       "      <td>666</td>\n",
       "      <td>178</td>\n",
       "      <td>False</td>\n",
       "      <td>While the world has been on the wrong side of ...</td>\n",
       "      <td>0</td>\n",
       "      <td>22</td>\n",
       "      <td>1</td>\n",
       "      <td>1</td>\n",
       "      <td>False</td>\n",
       "    </tr>\n",
       "    <tr>\n",
       "      <th>2</th>\n",
       "      <td>1337858199140118533</td>\n",
       "      <td>1570</td>\n",
       "      <td>823</td>\n",
       "      <td>1483</td>\n",
       "      <td>2020-06-25 23:30:28</td>\n",
       "      <td>10</td>\n",
       "      <td>88</td>\n",
       "      <td>155</td>\n",
       "      <td>False</td>\n",
       "      <td>#coronavirus #SputnikV #AstraZeneca #PfizerBio...</td>\n",
       "      <td>986</td>\n",
       "      <td>23</td>\n",
       "      <td>0</td>\n",
       "      <td>0</td>\n",
       "      <td>False</td>\n",
       "    </tr>\n",
       "    <tr>\n",
       "      <th>3</th>\n",
       "      <td>1337855739918835717</td>\n",
       "      <td>244</td>\n",
       "      <td>779</td>\n",
       "      <td>602</td>\n",
       "      <td>2008-09-10 11:28:53</td>\n",
       "      <td>49165</td>\n",
       "      <td>3933</td>\n",
       "      <td>21853</td>\n",
       "      <td>True</td>\n",
       "      <td>Facts are immutable, Senator, even when you're...</td>\n",
       "      <td>0</td>\n",
       "      <td>22</td>\n",
       "      <td>446</td>\n",
       "      <td>2129</td>\n",
       "      <td>False</td>\n",
       "    </tr>\n",
       "    <tr>\n",
       "      <th>4</th>\n",
       "      <td>1337854064604966912</td>\n",
       "      <td>267</td>\n",
       "      <td>407</td>\n",
       "      <td>304</td>\n",
       "      <td>2020-04-23 17:58:42</td>\n",
       "      <td>152</td>\n",
       "      <td>580</td>\n",
       "      <td>1473</td>\n",
       "      <td>False</td>\n",
       "      <td>Explain to me again why we need a vaccine @Bor...</td>\n",
       "      <td>1187</td>\n",
       "      <td>26</td>\n",
       "      <td>0</td>\n",
       "      <td>0</td>\n",
       "      <td>False</td>\n",
       "    </tr>\n",
       "  </tbody>\n",
       "</table>\n",
       "</div>"
      ],
      "text/plain": [
       "                    id  user_name  ...  favorites  is_retweet\n",
       "0  1340539111971516416       1139  ...          0       False\n",
       "1  1338158543359250433         63  ...          1       False\n",
       "2  1337858199140118533       1570  ...          0       False\n",
       "3  1337855739918835717        244  ...       2129       False\n",
       "4  1337854064604966912        267  ...          0       False\n",
       "\n",
       "[5 rows x 15 columns]"
      ]
     },
     "execution_count": 40,
     "metadata": {
      "tags": []
     },
     "output_type": "execute_result"
    }
   ],
   "source": [
    "data.head()"
   ]
  },
  {
   "cell_type": "code",
   "execution_count": 41,
   "metadata": {
    "colab": {
     "base_uri": "https://localhost:8080/"
    },
    "id": "tlmH48FPM0sw",
    "outputId": "ea84e198-59a2-4847-9db4-3462c95ea085"
   },
   "outputs": [
    {
     "data": {
      "text/plain": [
       "(2518, 15)"
      ]
     },
     "execution_count": 41,
     "metadata": {
      "tags": []
     },
     "output_type": "execute_result"
    }
   ],
   "source": [
    "data.shape"
   ]
  },
  {
   "cell_type": "code",
   "execution_count": 42,
   "metadata": {
    "colab": {
     "base_uri": "https://localhost:8080/"
    },
    "id": "BStP76QwMxdX",
    "outputId": "353d560a-188c-437a-d860-fd5b5cf5d819"
   },
   "outputs": [
    {
     "name": "stdout",
     "output_type": "stream",
     "text": [
      "<class 'pandas.core.frame.DataFrame'>\n",
      "RangeIndex: 2518 entries, 0 to 2517\n",
      "Data columns (total 15 columns):\n",
      " #   Column            Non-Null Count  Dtype \n",
      "---  ------            --------------  ----- \n",
      " 0   id                2518 non-null   int64 \n",
      " 1   user_name         2518 non-null   int64 \n",
      " 2   user_location     2518 non-null   int64 \n",
      " 3   user_description  2518 non-null   int64 \n",
      " 4   user_created      2518 non-null   object\n",
      " 5   user_followers    2518 non-null   int64 \n",
      " 6   user_friends      2518 non-null   int64 \n",
      " 7   user_favourites   2518 non-null   int64 \n",
      " 8   user_verified     2518 non-null   bool  \n",
      " 9   text              2518 non-null   object\n",
      " 10  hashtags          2518 non-null   int64 \n",
      " 11  source            2518 non-null   int64 \n",
      " 12  retweets          2518 non-null   int64 \n",
      " 13  favorites         2518 non-null   int64 \n",
      " 14  is_retweet        2518 non-null   bool  \n",
      "dtypes: bool(2), int64(11), object(2)\n",
      "memory usage: 260.8+ KB\n"
     ]
    }
   ],
   "source": [
    "data.info()"
   ]
  },
  {
   "cell_type": "code",
   "execution_count": 43,
   "metadata": {
    "colab": {
     "base_uri": "https://localhost:8080/"
    },
    "id": "a1sf9RCOOXk9",
    "outputId": "7b14a7bc-da90-40b1-908e-355d44ba50d8"
   },
   "outputs": [
    {
     "data": {
      "text/plain": [
       "array([False,  True])"
      ]
     },
     "execution_count": 43,
     "metadata": {
      "tags": []
     },
     "output_type": "execute_result"
    }
   ],
   "source": [
    "np.unique(data['user_verified'])"
   ]
  },
  {
   "cell_type": "code",
   "execution_count": 44,
   "metadata": {
    "colab": {
     "base_uri": "https://localhost:8080/",
     "height": 298
    },
    "id": "-0M_YlgMP0Ya",
    "outputId": "3093ee3a-f5e7-49e8-e068-ec2d15923201"
   },
   "outputs": [
    {
     "data": {
      "text/plain": [
       "<matplotlib.axes._subplots.AxesSubplot at 0x7f376c57cfd0>"
      ]
     },
     "execution_count": 44,
     "metadata": {
      "tags": []
     },
     "output_type": "execute_result"
    },
    {
     "data": {
      "image/png": "[encoded data removed]",
      "text/plain": [
       "<Figure size 432x288 with 1 Axes>"
      ]
     },
     "metadata": {
      "needs_background": "light",
      "tags": []
     },
     "output_type": "display_data"
    }
   ],
   "source": [
    "sns.countplot(x='user_verified', data=data)"
   ]
  },
  {
   "cell_type": "code",
   "execution_count": 45,
   "metadata": {
    "colab": {
     "base_uri": "https://localhost:8080/"
    },
    "id": "NNk_0bNqP9Jv",
    "outputId": "dd3cbed4-0179-4315-a95b-7cb8d4dc364a"
   },
   "outputs": [
    {
     "data": {
      "text/plain": [
       "id                   int64\n",
       "user_name            int64\n",
       "user_location        int64\n",
       "user_description     int64\n",
       "user_created        object\n",
       "user_followers       int64\n",
       "user_friends         int64\n",
       "user_favourites      int64\n",
       "user_verified         bool\n",
       "text                object\n",
       "hashtags             int64\n",
       "source               int64\n",
       "retweets             int64\n",
       "favorites            int64\n",
       "is_retweet            bool\n",
       "dtype: object"
      ]
     },
     "execution_count": 45,
     "metadata": {
      "tags": []
     },
     "output_type": "execute_result"
    }
   ],
   "source": [
    "data.dtypes"
   ]
  },
  {
   "cell_type": "code",
   "execution_count": 46,
   "metadata": {
    "id": "s4Ee6uikQQrF"
   },
   "outputs": [],
   "source": [
    "# converting boolean into INT\n",
    "\n",
    "data['user_verified'] = data['user_verified'].astype(int)"
   ]
  },
  {
   "cell_type": "code",
   "execution_count": 47,
   "metadata": {
    "colab": {
     "base_uri": "https://localhost:8080/"
    },
    "id": "XxqqrjwRQgnx",
    "outputId": "01b8007b-ee0f-4141-c3f9-5adbe03173d5"
   },
   "outputs": [
    {
     "data": {
      "text/plain": [
       "id                   int64\n",
       "user_name            int64\n",
       "user_location        int64\n",
       "user_description     int64\n",
       "user_created        object\n",
       "user_followers       int64\n",
       "user_friends         int64\n",
       "user_favourites      int64\n",
       "user_verified        int64\n",
       "text                object\n",
       "hashtags             int64\n",
       "source               int64\n",
       "retweets             int64\n",
       "favorites            int64\n",
       "is_retweet            bool\n",
       "dtype: object"
      ]
     },
     "execution_count": 47,
     "metadata": {
      "tags": []
     },
     "output_type": "execute_result"
    }
   ],
   "source": [
    "data.dtypes"
   ]
  },
  {
   "cell_type": "code",
   "execution_count": 48,
   "metadata": {
    "colab": {
     "base_uri": "https://localhost:8080/",
     "height": 521
    },
    "id": "5HXK3nlGQiYT",
    "outputId": "417b0b9a-cae5-44ca-d02b-43804ac16019"
   },
   "outputs": [
    {
     "data": {
      "text/html": [
       "<div>\n",
       "<style scoped>\n",
       "    .dataframe tbody tr th:only-of-type {\n",
       "        vertical-align: middle;\n",
       "    }\n",
       "\n",
       "    .dataframe tbody tr th {\n",
       "        vertical-align: top;\n",
       "    }\n",
       "\n",
       "    .dataframe thead th {\n",
       "        text-align: right;\n",
       "    }\n",
       "</style>\n",
       "<table border=\"1\" class=\"dataframe\">\n",
       "  <thead>\n",
       "    <tr style=\"text-align: right;\">\n",
       "      <th></th>\n",
       "      <th>id</th>\n",
       "      <th>user_name</th>\n",
       "      <th>user_location</th>\n",
       "      <th>user_description</th>\n",
       "      <th>user_created</th>\n",
       "      <th>user_followers</th>\n",
       "      <th>user_friends</th>\n",
       "      <th>user_favourites</th>\n",
       "      <th>user_verified</th>\n",
       "      <th>text</th>\n",
       "      <th>hashtags</th>\n",
       "      <th>source</th>\n",
       "      <th>retweets</th>\n",
       "      <th>favorites</th>\n",
       "      <th>is_retweet</th>\n",
       "    </tr>\n",
       "  </thead>\n",
       "  <tbody>\n",
       "    <tr>\n",
       "      <th>0</th>\n",
       "      <td>1340539111971516416</td>\n",
       "      <td>1139</td>\n",
       "      <td>386</td>\n",
       "      <td>140</td>\n",
       "      <td>2009-04-08 17:52:46</td>\n",
       "      <td>405</td>\n",
       "      <td>1692</td>\n",
       "      <td>3247</td>\n",
       "      <td>0</td>\n",
       "      <td>Same folks said daikon paste could treat a cyt...</td>\n",
       "      <td>754</td>\n",
       "      <td>23</td>\n",
       "      <td>0</td>\n",
       "      <td>0</td>\n",
       "      <td>False</td>\n",
       "    </tr>\n",
       "    <tr>\n",
       "      <th>1</th>\n",
       "      <td>1338158543359250433</td>\n",
       "      <td>63</td>\n",
       "      <td>647</td>\n",
       "      <td>867</td>\n",
       "      <td>2009-09-21 15:27:30</td>\n",
       "      <td>834</td>\n",
       "      <td>666</td>\n",
       "      <td>178</td>\n",
       "      <td>0</td>\n",
       "      <td>While the world has been on the wrong side of ...</td>\n",
       "      <td>0</td>\n",
       "      <td>22</td>\n",
       "      <td>1</td>\n",
       "      <td>1</td>\n",
       "      <td>False</td>\n",
       "    </tr>\n",
       "    <tr>\n",
       "      <th>2</th>\n",
       "      <td>1337858199140118533</td>\n",
       "      <td>1570</td>\n",
       "      <td>823</td>\n",
       "      <td>1483</td>\n",
       "      <td>2020-06-25 23:30:28</td>\n",
       "      <td>10</td>\n",
       "      <td>88</td>\n",
       "      <td>155</td>\n",
       "      <td>0</td>\n",
       "      <td>#coronavirus #SputnikV #AstraZeneca #PfizerBio...</td>\n",
       "      <td>986</td>\n",
       "      <td>23</td>\n",
       "      <td>0</td>\n",
       "      <td>0</td>\n",
       "      <td>False</td>\n",
       "    </tr>\n",
       "    <tr>\n",
       "      <th>3</th>\n",
       "      <td>1337855739918835717</td>\n",
       "      <td>244</td>\n",
       "      <td>779</td>\n",
       "      <td>602</td>\n",
       "      <td>2008-09-10 11:28:53</td>\n",
       "      <td>49165</td>\n",
       "      <td>3933</td>\n",
       "      <td>21853</td>\n",
       "      <td>1</td>\n",
       "      <td>Facts are immutable, Senator, even when you're...</td>\n",
       "      <td>0</td>\n",
       "      <td>22</td>\n",
       "      <td>446</td>\n",
       "      <td>2129</td>\n",
       "      <td>False</td>\n",
       "    </tr>\n",
       "    <tr>\n",
       "      <th>4</th>\n",
       "      <td>1337854064604966912</td>\n",
       "      <td>267</td>\n",
       "      <td>407</td>\n",
       "      <td>304</td>\n",
       "      <td>2020-04-23 17:58:42</td>\n",
       "      <td>152</td>\n",
       "      <td>580</td>\n",
       "      <td>1473</td>\n",
       "      <td>0</td>\n",
       "      <td>Explain to me again why we need a vaccine @Bor...</td>\n",
       "      <td>1187</td>\n",
       "      <td>26</td>\n",
       "      <td>0</td>\n",
       "      <td>0</td>\n",
       "      <td>False</td>\n",
       "    </tr>\n",
       "  </tbody>\n",
       "</table>\n",
       "</div>"
      ],
      "text/plain": [
       "                    id  user_name  ...  favorites  is_retweet\n",
       "0  1340539111971516416       1139  ...          0       False\n",
       "1  1338158543359250433         63  ...          1       False\n",
       "2  1337858199140118533       1570  ...          0       False\n",
       "3  1337855739918835717        244  ...       2129       False\n",
       "4  1337854064604966912        267  ...          0       False\n",
       "\n",
       "[5 rows x 15 columns]"
      ]
     },
     "execution_count": 48,
     "metadata": {
      "tags": []
     },
     "output_type": "execute_result"
    }
   ],
   "source": [
    "data.head()"
   ]
  },
  {
   "cell_type": "code",
   "execution_count": 49,
   "metadata": {
    "colab": {
     "base_uri": "https://localhost:8080/"
    },
    "id": "g6jl62NfQkjQ",
    "outputId": "22a12ef6-9004-4ca5-9c1d-9011722a4644"
   },
   "outputs": [
    {
     "data": {
      "text/plain": [
       "array([False])"
      ]
     },
     "execution_count": 49,
     "metadata": {
      "tags": []
     },
     "output_type": "execute_result"
    }
   ],
   "source": [
    "np.unique(data['is_retweet'])"
   ]
  },
  {
   "cell_type": "code",
   "execution_count": 50,
   "metadata": {
    "id": "uEVR3GzbQ0jX"
   },
   "outputs": [],
   "source": [
    "data.drop('is_retweet', axis=1, inplace=True)"
   ]
  },
  {
   "cell_type": "code",
   "execution_count": 51,
   "metadata": {
    "colab": {
     "base_uri": "https://localhost:8080/"
    },
    "id": "lf1E7wNaQ73b",
    "outputId": "75b31bce-3b33-409c-bb6f-b7c2fe7b5384"
   },
   "outputs": [
    {
     "data": {
      "text/plain": [
       "(2518, 14)"
      ]
     },
     "execution_count": 51,
     "metadata": {
      "tags": []
     },
     "output_type": "execute_result"
    }
   ],
   "source": [
    "data.shape"
   ]
  },
  {
   "cell_type": "code",
   "execution_count": 52,
   "metadata": {
    "colab": {
     "base_uri": "https://localhost:8080/",
     "height": 521
    },
    "id": "LiqiKrIjQ9Ar",
    "outputId": "6928e911-039f-4b3f-c5a3-4e3ea84953c2"
   },
   "outputs": [
    {
     "data": {
      "text/html": [
       "<div>\n",
       "<style scoped>\n",
       "    .dataframe tbody tr th:only-of-type {\n",
       "        vertical-align: middle;\n",
       "    }\n",
       "\n",
       "    .dataframe tbody tr th {\n",
       "        vertical-align: top;\n",
       "    }\n",
       "\n",
       "    .dataframe thead th {\n",
       "        text-align: right;\n",
       "    }\n",
       "</style>\n",
       "<table border=\"1\" class=\"dataframe\">\n",
       "  <thead>\n",
       "    <tr style=\"text-align: right;\">\n",
       "      <th></th>\n",
       "      <th>id</th>\n",
       "      <th>user_name</th>\n",
       "      <th>user_location</th>\n",
       "      <th>user_description</th>\n",
       "      <th>user_created</th>\n",
       "      <th>user_followers</th>\n",
       "      <th>user_friends</th>\n",
       "      <th>user_favourites</th>\n",
       "      <th>user_verified</th>\n",
       "      <th>text</th>\n",
       "      <th>hashtags</th>\n",
       "      <th>source</th>\n",
       "      <th>retweets</th>\n",
       "      <th>favorites</th>\n",
       "    </tr>\n",
       "  </thead>\n",
       "  <tbody>\n",
       "    <tr>\n",
       "      <th>0</th>\n",
       "      <td>1340539111971516416</td>\n",
       "      <td>1139</td>\n",
       "      <td>386</td>\n",
       "      <td>140</td>\n",
       "      <td>2009-04-08 17:52:46</td>\n",
       "      <td>405</td>\n",
       "      <td>1692</td>\n",
       "      <td>3247</td>\n",
       "      <td>0</td>\n",
       "      <td>Same folks said daikon paste could treat a cyt...</td>\n",
       "      <td>754</td>\n",
       "      <td>23</td>\n",
       "      <td>0</td>\n",
       "      <td>0</td>\n",
       "    </tr>\n",
       "    <tr>\n",
       "      <th>1</th>\n",
       "      <td>1338158543359250433</td>\n",
       "      <td>63</td>\n",
       "      <td>647</td>\n",
       "      <td>867</td>\n",
       "      <td>2009-09-21 15:27:30</td>\n",
       "      <td>834</td>\n",
       "      <td>666</td>\n",
       "      <td>178</td>\n",
       "      <td>0</td>\n",
       "      <td>While the world has been on the wrong side of ...</td>\n",
       "      <td>0</td>\n",
       "      <td>22</td>\n",
       "      <td>1</td>\n",
       "      <td>1</td>\n",
       "    </tr>\n",
       "    <tr>\n",
       "      <th>2</th>\n",
       "      <td>1337858199140118533</td>\n",
       "      <td>1570</td>\n",
       "      <td>823</td>\n",
       "      <td>1483</td>\n",
       "      <td>2020-06-25 23:30:28</td>\n",
       "      <td>10</td>\n",
       "      <td>88</td>\n",
       "      <td>155</td>\n",
       "      <td>0</td>\n",
       "      <td>#coronavirus #SputnikV #AstraZeneca #PfizerBio...</td>\n",
       "      <td>986</td>\n",
       "      <td>23</td>\n",
       "      <td>0</td>\n",
       "      <td>0</td>\n",
       "    </tr>\n",
       "    <tr>\n",
       "      <th>3</th>\n",
       "      <td>1337855739918835717</td>\n",
       "      <td>244</td>\n",
       "      <td>779</td>\n",
       "      <td>602</td>\n",
       "      <td>2008-09-10 11:28:53</td>\n",
       "      <td>49165</td>\n",
       "      <td>3933</td>\n",
       "      <td>21853</td>\n",
       "      <td>1</td>\n",
       "      <td>Facts are immutable, Senator, even when you're...</td>\n",
       "      <td>0</td>\n",
       "      <td>22</td>\n",
       "      <td>446</td>\n",
       "      <td>2129</td>\n",
       "    </tr>\n",
       "    <tr>\n",
       "      <th>4</th>\n",
       "      <td>1337854064604966912</td>\n",
       "      <td>267</td>\n",
       "      <td>407</td>\n",
       "      <td>304</td>\n",
       "      <td>2020-04-23 17:58:42</td>\n",
       "      <td>152</td>\n",
       "      <td>580</td>\n",
       "      <td>1473</td>\n",
       "      <td>0</td>\n",
       "      <td>Explain to me again why we need a vaccine @Bor...</td>\n",
       "      <td>1187</td>\n",
       "      <td>26</td>\n",
       "      <td>0</td>\n",
       "      <td>0</td>\n",
       "    </tr>\n",
       "  </tbody>\n",
       "</table>\n",
       "</div>"
      ],
      "text/plain": [
       "                    id  user_name  user_location  ...  source retweets  favorites\n",
       "0  1340539111971516416       1139            386  ...      23        0          0\n",
       "1  1338158543359250433         63            647  ...      22        1          1\n",
       "2  1337858199140118533       1570            823  ...      23        0          0\n",
       "3  1337855739918835717        244            779  ...      22      446       2129\n",
       "4  1337854064604966912        267            407  ...      26        0          0\n",
       "\n",
       "[5 rows x 14 columns]"
      ]
     },
     "execution_count": 52,
     "metadata": {
      "tags": []
     },
     "output_type": "execute_result"
    }
   ],
   "source": [
    "data.head()"
   ]
  },
  {
   "cell_type": "code",
   "execution_count": 53,
   "metadata": {
    "id": "szzWuvvWQ-nN"
   },
   "outputs": [],
   "source": [
    "data.drop('user_created', axis=1, inplace=True)"
   ]
  },
  {
   "cell_type": "code",
   "execution_count": 54,
   "metadata": {
    "colab": {
     "base_uri": "https://localhost:8080/"
    },
    "id": "S1MGRsVgRSOB",
    "outputId": "9f30323f-fb68-42a8-acec-c34808484a3c"
   },
   "outputs": [
    {
     "data": {
      "text/plain": [
       "id                   int64\n",
       "user_name            int64\n",
       "user_location        int64\n",
       "user_description     int64\n",
       "user_followers       int64\n",
       "user_friends         int64\n",
       "user_favourites      int64\n",
       "user_verified        int64\n",
       "text                object\n",
       "hashtags             int64\n",
       "source               int64\n",
       "retweets             int64\n",
       "favorites            int64\n",
       "dtype: object"
      ]
     },
     "execution_count": 54,
     "metadata": {
      "tags": []
     },
     "output_type": "execute_result"
    }
   ],
   "source": [
    "data.dtypes"
   ]
  },
  {
   "cell_type": "code",
   "execution_count": 55,
   "metadata": {
    "colab": {
     "base_uri": "https://localhost:8080/"
    },
    "id": "1YBoTWdeRT9I",
    "outputId": "5e501cc8-da5c-44d8-fba7-c608e8539927"
   },
   "outputs": [
    {
     "name": "stdout",
     "output_type": "stream",
     "text": [
      "<class 'pandas.core.frame.DataFrame'>\n",
      "RangeIndex: 2518 entries, 0 to 2517\n",
      "Data columns (total 13 columns):\n",
      " #   Column            Non-Null Count  Dtype \n",
      "---  ------            --------------  ----- \n",
      " 0   id                2518 non-null   int64 \n",
      " 1   user_name         2518 non-null   int64 \n",
      " 2   user_location     2518 non-null   int64 \n",
      " 3   user_description  2518 non-null   int64 \n",
      " 4   user_followers    2518 non-null   int64 \n",
      " 5   user_friends      2518 non-null   int64 \n",
      " 6   user_favourites   2518 non-null   int64 \n",
      " 7   user_verified     2518 non-null   int64 \n",
      " 8   text              2518 non-null   object\n",
      " 9   hashtags          2518 non-null   int64 \n",
      " 10  source            2518 non-null   int64 \n",
      " 11  retweets          2518 non-null   int64 \n",
      " 12  favorites         2518 non-null   int64 \n",
      "dtypes: int64(12), object(1)\n",
      "memory usage: 255.9+ KB\n"
     ]
    }
   ],
   "source": [
    "data.info()"
   ]
  },
  {
   "cell_type": "code",
   "execution_count": 56,
   "metadata": {
    "colab": {
     "base_uri": "https://localhost:8080/",
     "height": 521
    },
    "id": "64c3IKaTRVGE",
    "outputId": "21220ef4-62fd-4cb9-b1d6-90c2c20eacbb"
   },
   "outputs": [
    {
     "data": {
      "text/html": [
       "<div>\n",
       "<style scoped>\n",
       "    .dataframe tbody tr th:only-of-type {\n",
       "        vertical-align: middle;\n",
       "    }\n",
       "\n",
       "    .dataframe tbody tr th {\n",
       "        vertical-align: top;\n",
       "    }\n",
       "\n",
       "    .dataframe thead th {\n",
       "        text-align: right;\n",
       "    }\n",
       "</style>\n",
       "<table border=\"1\" class=\"dataframe\">\n",
       "  <thead>\n",
       "    <tr style=\"text-align: right;\">\n",
       "      <th></th>\n",
       "      <th>id</th>\n",
       "      <th>user_name</th>\n",
       "      <th>user_location</th>\n",
       "      <th>user_description</th>\n",
       "      <th>user_followers</th>\n",
       "      <th>user_friends</th>\n",
       "      <th>user_favourites</th>\n",
       "      <th>user_verified</th>\n",
       "      <th>text</th>\n",
       "      <th>hashtags</th>\n",
       "      <th>source</th>\n",
       "      <th>retweets</th>\n",
       "      <th>favorites</th>\n",
       "    </tr>\n",
       "  </thead>\n",
       "  <tbody>\n",
       "    <tr>\n",
       "      <th>0</th>\n",
       "      <td>1340539111971516416</td>\n",
       "      <td>1139</td>\n",
       "      <td>386</td>\n",
       "      <td>140</td>\n",
       "      <td>405</td>\n",
       "      <td>1692</td>\n",
       "      <td>3247</td>\n",
       "      <td>0</td>\n",
       "      <td>Same folks said daikon paste could treat a cyt...</td>\n",
       "      <td>754</td>\n",
       "      <td>23</td>\n",
       "      <td>0</td>\n",
       "      <td>0</td>\n",
       "    </tr>\n",
       "    <tr>\n",
       "      <th>1</th>\n",
       "      <td>1338158543359250433</td>\n",
       "      <td>63</td>\n",
       "      <td>647</td>\n",
       "      <td>867</td>\n",
       "      <td>834</td>\n",
       "      <td>666</td>\n",
       "      <td>178</td>\n",
       "      <td>0</td>\n",
       "      <td>While the world has been on the wrong side of ...</td>\n",
       "      <td>0</td>\n",
       "      <td>22</td>\n",
       "      <td>1</td>\n",
       "      <td>1</td>\n",
       "    </tr>\n",
       "    <tr>\n",
       "      <th>2</th>\n",
       "      <td>1337858199140118533</td>\n",
       "      <td>1570</td>\n",
       "      <td>823</td>\n",
       "      <td>1483</td>\n",
       "      <td>10</td>\n",
       "      <td>88</td>\n",
       "      <td>155</td>\n",
       "      <td>0</td>\n",
       "      <td>#coronavirus #SputnikV #AstraZeneca #PfizerBio...</td>\n",
       "      <td>986</td>\n",
       "      <td>23</td>\n",
       "      <td>0</td>\n",
       "      <td>0</td>\n",
       "    </tr>\n",
       "    <tr>\n",
       "      <th>3</th>\n",
       "      <td>1337855739918835717</td>\n",
       "      <td>244</td>\n",
       "      <td>779</td>\n",
       "      <td>602</td>\n",
       "      <td>49165</td>\n",
       "      <td>3933</td>\n",
       "      <td>21853</td>\n",
       "      <td>1</td>\n",
       "      <td>Facts are immutable, Senator, even when you're...</td>\n",
       "      <td>0</td>\n",
       "      <td>22</td>\n",
       "      <td>446</td>\n",
       "      <td>2129</td>\n",
       "    </tr>\n",
       "    <tr>\n",
       "      <th>4</th>\n",
       "      <td>1337854064604966912</td>\n",
       "      <td>267</td>\n",
       "      <td>407</td>\n",
       "      <td>304</td>\n",
       "      <td>152</td>\n",
       "      <td>580</td>\n",
       "      <td>1473</td>\n",
       "      <td>0</td>\n",
       "      <td>Explain to me again why we need a vaccine @Bor...</td>\n",
       "      <td>1187</td>\n",
       "      <td>26</td>\n",
       "      <td>0</td>\n",
       "      <td>0</td>\n",
       "    </tr>\n",
       "  </tbody>\n",
       "</table>\n",
       "</div>"
      ],
      "text/plain": [
       "                    id  user_name  user_location  ...  source  retweets  favorites\n",
       "0  1340539111971516416       1139            386  ...      23         0          0\n",
       "1  1338158543359250433         63            647  ...      22         1          1\n",
       "2  1337858199140118533       1570            823  ...      23         0          0\n",
       "3  1337855739918835717        244            779  ...      22       446       2129\n",
       "4  1337854064604966912        267            407  ...      26         0          0\n",
       "\n",
       "[5 rows x 13 columns]"
      ]
     },
     "execution_count": 56,
     "metadata": {
      "tags": []
     },
     "output_type": "execute_result"
    }
   ],
   "source": [
    "data.head()"
   ]
  },
  {
   "cell_type": "code",
   "execution_count": 57,
   "metadata": {
    "id": "nH_aCI9tRWHy"
   },
   "outputs": [],
   "source": [
    "data.drop('id', axis=1, inplace=True)"
   ]
  },
  {
   "cell_type": "code",
   "execution_count": 58,
   "metadata": {
    "colab": {
     "base_uri": "https://localhost:8080/",
     "height": 293
    },
    "id": "0ruFXovARnKu",
    "outputId": "7f8f1eec-849c-424d-c59f-194b261664ac"
   },
   "outputs": [
    {
     "data": {
      "text/html": [
       "<div>\n",
       "<style scoped>\n",
       "    .dataframe tbody tr th:only-of-type {\n",
       "        vertical-align: middle;\n",
       "    }\n",
       "\n",
       "    .dataframe tbody tr th {\n",
       "        vertical-align: top;\n",
       "    }\n",
       "\n",
       "    .dataframe thead th {\n",
       "        text-align: right;\n",
       "    }\n",
       "</style>\n",
       "<table border=\"1\" class=\"dataframe\">\n",
       "  <thead>\n",
       "    <tr style=\"text-align: right;\">\n",
       "      <th></th>\n",
       "      <th>user_name</th>\n",
       "      <th>user_location</th>\n",
       "      <th>user_description</th>\n",
       "      <th>user_followers</th>\n",
       "      <th>user_friends</th>\n",
       "      <th>user_favourites</th>\n",
       "      <th>user_verified</th>\n",
       "      <th>text</th>\n",
       "      <th>hashtags</th>\n",
       "      <th>source</th>\n",
       "      <th>retweets</th>\n",
       "      <th>favorites</th>\n",
       "    </tr>\n",
       "  </thead>\n",
       "  <tbody>\n",
       "    <tr>\n",
       "      <th>0</th>\n",
       "      <td>1139</td>\n",
       "      <td>386</td>\n",
       "      <td>140</td>\n",
       "      <td>405</td>\n",
       "      <td>1692</td>\n",
       "      <td>3247</td>\n",
       "      <td>0</td>\n",
       "      <td>Same folks said daikon paste could treat a cyt...</td>\n",
       "      <td>754</td>\n",
       "      <td>23</td>\n",
       "      <td>0</td>\n",
       "      <td>0</td>\n",
       "    </tr>\n",
       "    <tr>\n",
       "      <th>1</th>\n",
       "      <td>63</td>\n",
       "      <td>647</td>\n",
       "      <td>867</td>\n",
       "      <td>834</td>\n",
       "      <td>666</td>\n",
       "      <td>178</td>\n",
       "      <td>0</td>\n",
       "      <td>While the world has been on the wrong side of ...</td>\n",
       "      <td>0</td>\n",
       "      <td>22</td>\n",
       "      <td>1</td>\n",
       "      <td>1</td>\n",
       "    </tr>\n",
       "    <tr>\n",
       "      <th>2</th>\n",
       "      <td>1570</td>\n",
       "      <td>823</td>\n",
       "      <td>1483</td>\n",
       "      <td>10</td>\n",
       "      <td>88</td>\n",
       "      <td>155</td>\n",
       "      <td>0</td>\n",
       "      <td>#coronavirus #SputnikV #AstraZeneca #PfizerBio...</td>\n",
       "      <td>986</td>\n",
       "      <td>23</td>\n",
       "      <td>0</td>\n",
       "      <td>0</td>\n",
       "    </tr>\n",
       "    <tr>\n",
       "      <th>3</th>\n",
       "      <td>244</td>\n",
       "      <td>779</td>\n",
       "      <td>602</td>\n",
       "      <td>49165</td>\n",
       "      <td>3933</td>\n",
       "      <td>21853</td>\n",
       "      <td>1</td>\n",
       "      <td>Facts are immutable, Senator, even when you're...</td>\n",
       "      <td>0</td>\n",
       "      <td>22</td>\n",
       "      <td>446</td>\n",
       "      <td>2129</td>\n",
       "    </tr>\n",
       "    <tr>\n",
       "      <th>4</th>\n",
       "      <td>267</td>\n",
       "      <td>407</td>\n",
       "      <td>304</td>\n",
       "      <td>152</td>\n",
       "      <td>580</td>\n",
       "      <td>1473</td>\n",
       "      <td>0</td>\n",
       "      <td>Explain to me again why we need a vaccine @Bor...</td>\n",
       "      <td>1187</td>\n",
       "      <td>26</td>\n",
       "      <td>0</td>\n",
       "      <td>0</td>\n",
       "    </tr>\n",
       "  </tbody>\n",
       "</table>\n",
       "</div>"
      ],
      "text/plain": [
       "   user_name  user_location  user_description  ...  source  retweets  favorites\n",
       "0       1139            386               140  ...      23         0          0\n",
       "1         63            647               867  ...      22         1          1\n",
       "2       1570            823              1483  ...      23         0          0\n",
       "3        244            779               602  ...      22       446       2129\n",
       "4        267            407               304  ...      26         0          0\n",
       "\n",
       "[5 rows x 12 columns]"
      ]
     },
     "execution_count": 58,
     "metadata": {
      "tags": []
     },
     "output_type": "execute_result"
    }
   ],
   "source": [
    "data.head()"
   ]
  },
  {
   "cell_type": "code",
   "execution_count": 59,
   "metadata": {
    "colab": {
     "base_uri": "https://localhost:8080/",
     "height": 297
    },
    "id": "9Fj7IkFdRohr",
    "outputId": "c8e4496e-ca22-4ca3-dc6b-30b1fc07000a"
   },
   "outputs": [
    {
     "data": {
      "text/plain": [
       "<matplotlib.axes._subplots.AxesSubplot at 0x7f376bb2a990>"
      ]
     },
     "execution_count": 59,
     "metadata": {
      "tags": []
     },
     "output_type": "execute_result"
    },
    {
     "data": {
      "image/png": "[encoded data removed]",
      "text/plain": [
       "<Figure size 432x288 with 1 Axes>"
      ]
     },
     "metadata": {
      "needs_background": "light",
      "tags": []
     },
     "output_type": "display_data"
    }
   ],
   "source": [
    "sns.countplot(x='user_name', hue='user_verified', data=data)"
   ]
  },
  {
   "cell_type": "code",
   "execution_count": 60,
   "metadata": {
    "colab": {
     "base_uri": "https://localhost:8080/",
     "height": 298
    },
    "id": "ZPUr5ncAR-B8",
    "outputId": "7e15d5ef-e966-4ded-d2f0-80a3e17f837a"
   },
   "outputs": [
    {
     "data": {
      "text/plain": [
       "<matplotlib.axes._subplots.AxesSubplot at 0x7f376865b110>"
      ]
     },
     "execution_count": 60,
     "metadata": {
      "tags": []
     },
     "output_type": "execute_result"
    },
    {
     "data": {
      "image/png": "[encoded data removed]",
      "text/plain": [
       "<Figure size 432x288 with 1 Axes>"
      ]
     },
     "metadata": {
      "needs_background": "light",
      "tags": []
     },
     "output_type": "display_data"
    }
   ],
   "source": [
    "sns.countplot(x='user_verified', data=data)"
   ]
  },
  {
   "cell_type": "code",
   "execution_count": 61,
   "metadata": {
    "id": "T1loRirsSUH7"
   },
   "outputs": [],
   "source": [
    "take = []\n",
    "drop = []\n",
    "\n",
    "for j in data.columns:\n",
    "  if j == 'text' or j == 'user_verified':\n",
    "    take.append(j)\n",
    "  else:\n",
    "    drop.append(j)"
   ]
  },
  {
   "cell_type": "code",
   "execution_count": 62,
   "metadata": {
    "colab": {
     "base_uri": "https://localhost:8080/"
    },
    "id": "NrE-M2TBS-z_",
    "outputId": "745c6a90-b14f-4a37-f463-062506ce615d"
   },
   "outputs": [
    {
     "data": {
      "text/plain": [
       "['user_name',\n",
       " 'user_location',\n",
       " 'user_description',\n",
       " 'user_followers',\n",
       " 'user_friends',\n",
       " 'user_favourites',\n",
       " 'hashtags',\n",
       " 'source',\n",
       " 'retweets',\n",
       " 'favorites']"
      ]
     },
     "execution_count": 62,
     "metadata": {
      "tags": []
     },
     "output_type": "execute_result"
    }
   ],
   "source": [
    "drop"
   ]
  },
  {
   "cell_type": "code",
   "execution_count": 63,
   "metadata": {
    "colab": {
     "base_uri": "https://localhost:8080/"
    },
    "id": "jAigDsgiS_nH",
    "outputId": "1c06de74-2eca-45a2-f19d-d22624c479fc"
   },
   "outputs": [
    {
     "data": {
      "text/plain": [
       "['user_verified', 'text']"
      ]
     },
     "execution_count": 63,
     "metadata": {
      "tags": []
     },
     "output_type": "execute_result"
    }
   ],
   "source": [
    "take"
   ]
  },
  {
   "cell_type": "code",
   "execution_count": 64,
   "metadata": {
    "id": "OUEUknEXTHlL"
   },
   "outputs": [],
   "source": [
    "data.drop(drop, axis=1, inplace=True)"
   ]
  },
  {
   "cell_type": "code",
   "execution_count": 65,
   "metadata": {
    "colab": {
     "base_uri": "https://localhost:8080/",
     "height": 206
    },
    "id": "6PJgVDZcTVBa",
    "outputId": "704dad2b-e922-4d3f-9ea5-9ed5a36a7afd"
   },
   "outputs": [
    {
     "data": {
      "text/html": [
       "<div>\n",
       "<style scoped>\n",
       "    .dataframe tbody tr th:only-of-type {\n",
       "        vertical-align: middle;\n",
       "    }\n",
       "\n",
       "    .dataframe tbody tr th {\n",
       "        vertical-align: top;\n",
       "    }\n",
       "\n",
       "    .dataframe thead th {\n",
       "        text-align: right;\n",
       "    }\n",
       "</style>\n",
       "<table border=\"1\" class=\"dataframe\">\n",
       "  <thead>\n",
       "    <tr style=\"text-align: right;\">\n",
       "      <th></th>\n",
       "      <th>user_verified</th>\n",
       "      <th>text</th>\n",
       "    </tr>\n",
       "  </thead>\n",
       "  <tbody>\n",
       "    <tr>\n",
       "      <th>0</th>\n",
       "      <td>0</td>\n",
       "      <td>Same folks said daikon paste could treat a cyt...</td>\n",
       "    </tr>\n",
       "    <tr>\n",
       "      <th>1</th>\n",
       "      <td>0</td>\n",
       "      <td>While the world has been on the wrong side of ...</td>\n",
       "    </tr>\n",
       "    <tr>\n",
       "      <th>2</th>\n",
       "      <td>0</td>\n",
       "      <td>#coronavirus #SputnikV #AstraZeneca #PfizerBio...</td>\n",
       "    </tr>\n",
       "    <tr>\n",
       "      <th>3</th>\n",
       "      <td>1</td>\n",
       "      <td>Facts are immutable, Senator, even when you're...</td>\n",
       "    </tr>\n",
       "    <tr>\n",
       "      <th>4</th>\n",
       "      <td>0</td>\n",
       "      <td>Explain to me again why we need a vaccine @Bor...</td>\n",
       "    </tr>\n",
       "  </tbody>\n",
       "</table>\n",
       "</div>"
      ],
      "text/plain": [
       "   user_verified                                               text\n",
       "0              0  Same folks said daikon paste could treat a cyt...\n",
       "1              0  While the world has been on the wrong side of ...\n",
       "2              0  #coronavirus #SputnikV #AstraZeneca #PfizerBio...\n",
       "3              1  Facts are immutable, Senator, even when you're...\n",
       "4              0  Explain to me again why we need a vaccine @Bor..."
      ]
     },
     "execution_count": 65,
     "metadata": {
      "tags": []
     },
     "output_type": "execute_result"
    }
   ],
   "source": [
    "data.head()"
   ]
  },
  {
   "cell_type": "code",
   "execution_count": 66,
   "metadata": {
    "id": "ZMirMBFNTW0f"
   },
   "outputs": [],
   "source": [
    "x = data['text']\n",
    "y = data['user_verified']"
   ]
  },
  {
   "cell_type": "code",
   "execution_count": 67,
   "metadata": {
    "colab": {
     "base_uri": "https://localhost:8080/",
     "height": 298
    },
    "id": "nNG-l3hHTllG",
    "outputId": "b3280c80-4d64-4e77-d677-b0173aa25fcc"
   },
   "outputs": [
    {
     "data": {
      "text/plain": [
       "<matplotlib.axes._subplots.AxesSubplot at 0x7f376a3a04d0>"
      ]
     },
     "execution_count": 67,
     "metadata": {
      "tags": []
     },
     "output_type": "execute_result"
    },
    {
     "data": {
      "image/png": "[encoded data removed]",
      "text/plain": [
       "<Figure size 432x288 with 1 Axes>"
      ]
     },
     "metadata": {
      "needs_background": "light",
      "tags": []
     },
     "output_type": "display_data"
    }
   ],
   "source": [
    "sns.countplot(x='user_verified', data=data)"
   ]
  },
  {
   "cell_type": "code",
   "execution_count": 68,
   "metadata": {
    "colab": {
     "base_uri": "https://localhost:8080/"
    },
    "id": "XcH-S2uOTxJ-",
    "outputId": "506ed045-adc6-4130-86df-62ba107be58d"
   },
   "outputs": [
    {
     "name": "stdout",
     "output_type": "stream",
     "text": [
      "Percentage of verified user is =  14.138204924543288 %\n",
      "Percentage of verified user is =  85.86179507545671 %\n"
     ]
    }
   ],
   "source": [
    "verified_user = []\n",
    "not_verified_user = []\n",
    "\n",
    "for i in data['user_verified']:\n",
    "  if i == 1:\n",
    "    verified_user.append(i)\n",
    "  else:\n",
    "    not_verified_user.append(i)\n",
    "\n",
    "print(\"Percentage of verified user is = \", ((len(verified_user)/len(data['user_verified']))*100), \"%\")\n",
    "print(\"Percentage of verified user is = \", ((len(not_verified_user)/len(data['user_verified']))*100), \"%\")"
   ]
  },
  {
   "cell_type": "markdown",
   "metadata": {
    "id": "WUMVgvtsmVrv"
   },
   "source": [
    "# CREATING MODEL (NLP)"
   ]
  },
  {
   "cell_type": "code",
   "execution_count": 69,
   "metadata": {
    "id": "baLBQQaiVDkM"
   },
   "outputs": [],
   "source": [
    "from tensorflow import keras\n",
    "from keras.preprocessing.text import Tokenizer\n",
    "from keras.preprocessing.sequence import pad_sequences"
   ]
  },
  {
   "cell_type": "code",
   "execution_count": 70,
   "metadata": {
    "id": "W6XtDrMSmtkN"
   },
   "outputs": [],
   "source": [
    "tokenizer = Tokenizer(10000, lower=True, oov_token=\"UNK\")\n",
    "tokenizer.fit_on_texts(x)"
   ]
  },
  {
   "cell_type": "code",
   "execution_count": 71,
   "metadata": {
    "id": "iMJ_nY67nLHX"
   },
   "outputs": [],
   "source": [
    "sequence = tokenizer.texts_to_sequences(x)\n",
    "final_input = pad_sequences(sequence, maxlen=200, padding='pre')"
   ]
  },
  {
   "cell_type": "code",
   "execution_count": 72,
   "metadata": {
    "colab": {
     "base_uri": "https://localhost:8080/",
     "height": 36
    },
    "id": "uBxv2PEGnnUK",
    "outputId": "1c33fa2f-0df7-49c6-fb2f-98a289c2d2f2"
   },
   "outputs": [
    {
     "data": {
      "application/vnd.google.colaboratory.intrinsic+json": {
       "type": "string"
      },
      "text/plain": [
       "'#coronavirus #SputnikV #AstraZeneca #PfizerBioNTech #Moderna #Covid_19 Russian vaccine is created to last 2-4 years… https://t.co/ieYlCKBr8P'"
      ]
     },
     "execution_count": 72,
     "metadata": {
      "tags": []
     },
     "output_type": "execute_result"
    }
   ],
   "source": [
    "x[2]"
   ]
  },
  {
   "cell_type": "code",
   "execution_count": 73,
   "metadata": {
    "colab": {
     "base_uri": "https://localhost:8080/"
    },
    "id": "QydZ3JCzoNii",
    "outputId": "0e58f3b8-77ca-4ea9-d9d9-430a7f08a212"
   },
   "outputs": [
    {
     "data": {
      "text/plain": [
       "[31,\n",
       " 400,\n",
       " 99,\n",
       " 6,\n",
       " 52,\n",
       " 14,\n",
       " 20,\n",
       " 1046,\n",
       " 7,\n",
       " 16,\n",
       " 1047,\n",
       " 8,\n",
       " 197,\n",
       " 78,\n",
       " 243,\n",
       " 1742,\n",
       " 4,\n",
       " 2,\n",
       " 3,\n",
       " 2701]"
      ]
     },
     "execution_count": 73,
     "metadata": {
      "tags": []
     },
     "output_type": "execute_result"
    }
   ],
   "source": [
    "sequence[2]"
   ]
  },
  {
   "cell_type": "code",
   "execution_count": 74,
   "metadata": {
    "colab": {
     "base_uri": "https://localhost:8080/"
    },
    "id": "OMAJDnFMoSoZ",
    "outputId": "8d3a46bf-8518-416f-a8cb-3be7f257b2f3"
   },
   "outputs": [
    {
     "data": {
      "text/plain": [
       "array([   0,    0,    0,    0,    0,    0,    0,    0,    0,    0,    0,\n",
       "          0,    0,    0,    0,    0,    0,    0,    0,    0,    0,    0,\n",
       "          0,    0,    0,    0,    0,    0,    0,    0,    0,    0,    0,\n",
       "          0,    0,    0,    0,    0,    0,    0,    0,    0,    0,    0,\n",
       "          0,    0,    0,    0,    0,    0,    0,    0,    0,    0,    0,\n",
       "          0,    0,    0,    0,    0,    0,    0,    0,    0,    0,    0,\n",
       "          0,    0,    0,    0,    0,    0,    0,    0,    0,    0,    0,\n",
       "          0,    0,    0,    0,    0,    0,    0,    0,    0,    0,    0,\n",
       "          0,    0,    0,    0,    0,    0,    0,    0,    0,    0,    0,\n",
       "          0,    0,    0,    0,    0,    0,    0,    0,    0,    0,    0,\n",
       "          0,    0,    0,    0,    0,    0,    0,    0,    0,    0,    0,\n",
       "          0,    0,    0,    0,    0,    0,    0,    0,    0,    0,    0,\n",
       "          0,    0,    0,    0,    0,    0,    0,    0,    0,    0,    0,\n",
       "          0,    0,    0,    0,    0,    0,    0,    0,    0,    0,    0,\n",
       "          0,    0,    0,    0,    0,    0,    0,    0,    0,    0,    0,\n",
       "          0,    0,    0,    0,    0,    0,    0,    0,    0,    0,    0,\n",
       "          0,    0,    0,    0,   31,  400,   99,    6,   52,   14,   20,\n",
       "       1046,    7,   16, 1047,    8,  197,   78,  243, 1742,    4,    2,\n",
       "          3, 2701], dtype=int32)"
      ]
     },
     "execution_count": 74,
     "metadata": {
      "tags": []
     },
     "output_type": "execute_result"
    }
   ],
   "source": [
    "final_input[2]"
   ]
  },
  {
   "cell_type": "code",
   "execution_count": 75,
   "metadata": {
    "id": "UIxvhRWrodHu"
   },
   "outputs": [],
   "source": [
    "final_output = np.array(y)"
   ]
  },
  {
   "cell_type": "code",
   "execution_count": 76,
   "metadata": {
    "id": "U6FUiea7qDiA"
   },
   "outputs": [],
   "source": [
    "from keras.models import Sequential\n",
    "from keras.layers import Bidirectional, LSTM, Dense, Embedding"
   ]
  },
  {
   "cell_type": "code",
   "execution_count": 77,
   "metadata": {
    "id": "y-jsWlAjqWwB"
   },
   "outputs": [],
   "source": [
    "model = Sequential()\n",
    "model.add(Embedding(input_dim=10000, output_dim=120, input_length=200))\n",
    "model.add(Bidirectional(LSTM(64, return_sequences=True)))\n",
    "model.add(Bidirectional(LSTM(32)))\n",
    "model.add(Dense(1))"
   ]
  },
  {
   "cell_type": "code",
   "execution_count": 78,
   "metadata": {
    "colab": {
     "base_uri": "https://localhost:8080/",
     "height": 466
    },
    "id": "BHGL-n5creAK",
    "outputId": "4244312e-3e74-4014-8b38-d6925af38ec7"
   },
   "outputs": [
    {
     "data": {
      "image/png": "[encoded data removed]",
      "text/plain": [
       "<IPython.core.display.Image object>"
      ]
     },
     "execution_count": 78,
     "metadata": {
      "tags": []
     },
     "output_type": "execute_result"
    }
   ],
   "source": [
    "from keras.utils.vis_utils import plot_model\n",
    "plot_model(model, to_file='VaccineModel.png')"
   ]
  },
  {
   "cell_type": "code",
   "execution_count": 79,
   "metadata": {
    "colab": {
     "base_uri": "https://localhost:8080/"
    },
    "id": "lWbKBGvVrk3K",
    "outputId": "50a94f11-07e6-4a71-925e-adc938540638"
   },
   "outputs": [
    {
     "name": "stdout",
     "output_type": "stream",
     "text": [
      "Model: \"sequential\"\n",
      "_________________________________________________________________\n",
      "Layer (type)                 Output Shape              Param #   \n",
      "=================================================================\n",
      "embedding (Embedding)        (None, 200, 120)          1200000   \n",
      "_________________________________________________________________\n",
      "bidirectional (Bidirectional (None, 200, 128)          94720     \n",
      "_________________________________________________________________\n",
      "bidirectional_1 (Bidirection (None, 64)                41216     \n",
      "_________________________________________________________________\n",
      "dense (Dense)                (None, 1)                 65        \n",
      "=================================================================\n",
      "Total params: 1,336,001\n",
      "Trainable params: 1,336,001\n",
      "Non-trainable params: 0\n",
      "_________________________________________________________________\n"
     ]
    }
   ],
   "source": [
    "model.summary()"
   ]
  },
  {
   "cell_type": "code",
   "execution_count": 80,
   "metadata": {
    "id": "G9HSE1_Qrofw"
   },
   "outputs": [],
   "source": [
    "model.compile(loss='binary_crossentropy', optimizer='adam', metrics=['accuracy'])"
   ]
  },
  {
   "cell_type": "code",
   "execution_count": 87,
   "metadata": {
    "colab": {
     "base_uri": "https://localhost:8080/"
    },
    "id": "nJTFE-gQsHtF",
    "outputId": "5d85b3b7-6aef-4ad2-91eb-9fb4e52ef73f"
   },
   "outputs": [
    {
     "name": "stdout",
     "output_type": "stream",
     "text": [
      "Epoch 1/20\n",
      "79/79 [==============================] - 3s 42ms/step - loss: 2.1808 - accuracy: 0.8586\n",
      "Epoch 2/20\n",
      "79/79 [==============================] - 3s 39ms/step - loss: 2.1808 - accuracy: 0.8586\n",
      "Epoch 3/20\n",
      "79/79 [==============================] - 3s 38ms/step - loss: 2.1808 - accuracy: 0.8586\n",
      "Epoch 4/20\n",
      "79/79 [==============================] - 3s 39ms/step - loss: 2.1808 - accuracy: 0.8586\n",
      "Epoch 5/20\n",
      "79/79 [==============================] - 3s 39ms/step - loss: 2.1808 - accuracy: 0.8586\n",
      "Epoch 6/20\n",
      "79/79 [==============================] - 3s 39ms/step - loss: 2.1808 - accuracy: 0.8586\n",
      "Epoch 7/20\n",
      "79/79 [==============================] - 3s 39ms/step - loss: 2.1808 - accuracy: 0.8586\n",
      "Epoch 8/20\n",
      "79/79 [==============================] - 3s 39ms/step - loss: 2.1808 - accuracy: 0.8586\n",
      "Epoch 9/20\n",
      "79/79 [==============================] - 3s 39ms/step - loss: 2.1808 - accuracy: 0.8586\n",
      "Epoch 10/20\n",
      "79/79 [==============================] - 3s 39ms/step - loss: 2.1808 - accuracy: 0.8586\n",
      "Epoch 11/20\n",
      "79/79 [==============================] - 3s 40ms/step - loss: 2.1808 - accuracy: 0.8586\n",
      "Epoch 12/20\n",
      "79/79 [==============================] - 3s 40ms/step - loss: 2.1808 - accuracy: 0.8586\n",
      "Epoch 13/20\n",
      "79/79 [==============================] - 3s 39ms/step - loss: 2.1808 - accuracy: 0.8586\n",
      "Epoch 14/20\n",
      "79/79 [==============================] - 3s 40ms/step - loss: 2.1808 - accuracy: 0.8586\n",
      "Epoch 15/20\n",
      "79/79 [==============================] - 3s 39ms/step - loss: 2.1808 - accuracy: 0.8586\n",
      "Epoch 16/20\n",
      "79/79 [==============================] - 3s 39ms/step - loss: 2.1808 - accuracy: 0.8586\n",
      "Epoch 17/20\n",
      "79/79 [==============================] - 3s 39ms/step - loss: 2.1808 - accuracy: 0.8586\n",
      "Epoch 18/20\n",
      "79/79 [==============================] - 3s 39ms/step - loss: 2.1808 - accuracy: 0.8586\n",
      "Epoch 19/20\n",
      "79/79 [==============================] - 3s 39ms/step - loss: 2.1808 - accuracy: 0.8586\n",
      "Epoch 20/20\n",
      "79/79 [==============================] - 3s 40ms/step - loss: 2.1808 - accuracy: 0.8586\n"
     ]
    }
   ],
   "source": [
    "pred = model.fit(final_input, final_output, epochs=20, batch_size=32)"
   ]
  },
  {
   "cell_type": "code",
   "execution_count": 88,
   "metadata": {
    "colab": {
     "base_uri": "https://localhost:8080/",
     "height": 283
    },
    "id": "qc8-MucmtCmY",
    "outputId": "944cebd6-6e2c-49fe-900b-d0330e71ec59"
   },
   "outputs": [
    {
     "data": {
      "text/plain": [
       "<function matplotlib.pyplot.show>"
      ]
     },
     "execution_count": 88,
     "metadata": {
      "tags": []
     },
     "output_type": "execute_result"
    },
    {
     "data": {
      "image/png": "[encoded data removed]",
      "text/plain": [
       "<Figure size 432x288 with 1 Axes>"
      ]
     },
     "metadata": {
      "needs_background": "light",
      "tags": []
     },
     "output_type": "display_data"
    }
   ],
   "source": [
    "plt.plot(pred.history['accuracy'], label='accuracy')\n",
    "plt.plot(pred.history['loss'], label='loss')\n",
    "plt.legend(loc='best')\n",
    "plt.show"
   ]
  },
  {
   "cell_type": "code",
   "execution_count": 89,
   "metadata": {
    "id": "L-l3Hb0WtaXz"
   },
   "outputs": [],
   "source": [
    "model.save('Vaccination_For_Justified_Model.h5')"
   ]
  },
  {
   "cell_type": "markdown",
   "metadata": {
    "id": "1plxe-VytxIX"
   },
   "source": [
    "# VERIFICATION FUNCTION"
   ]
  },
  {
   "cell_type": "code",
   "execution_count": 90,
   "metadata": {
    "id": "b52Bxb4ottmQ"
   },
   "outputs": [],
   "source": [
    "def verification(details):\n",
    "  sentence_list = []\n",
    "  sentence_list.append(details)\n",
    "  fit = tokenizer.texts_to_sequences(sentence_list)\n",
    "  sequence = pad_sequences(fit, maxlen=200, padding='pre')\n",
    "  output = model.predict_classes(sequence)\n",
    "  if output.all() == 1:\n",
    "    print(\"Verified User\")\n",
    "  else:\n",
    "    print(\"User is not verified\")"
   ]
  },
  {
   "cell_type": "code",
   "execution_count": 91,
   "metadata": {
    "colab": {
     "base_uri": "https://localhost:8080/"
    },
    "id": "Ci5rQAz5xSX0",
    "outputId": "6af755ff-6cd2-44c1-ca9b-68016abe7096"
   },
   "outputs": [
    {
     "name": "stderr",
     "output_type": "stream",
     "text": [
      "/usr/local/lib/python3.7/dist-packages/tensorflow/python/keras/engine/sequential.py:450: UserWarning: `model.predict_classes()` is deprecated and will be removed after 2021-01-01. Please use instead:* `np.argmax(model.predict(x), axis=-1)`,   if your model does multi-class classification   (e.g. if it uses a `softmax` last-layer activation).* `(model.predict(x) > 0.5).astype(\"int32\")`,   if your model does binary classification   (e.g. if it uses a `sigmoid` last-layer activation).\n",
      "  warnings.warn('`model.predict_classes()` is deprecated and '\n"
     ]
    },
    {
     "name": "stdout",
     "output_type": "stream",
     "text": [
      "User is not verified\n"
     ]
    }
   ],
   "source": [
    "verification(\"#coronavirus #SputnikV #AstraZeneca #PfizerBioNTech #Moderna #Covid_19 Russian vaccine is created to last 2-4 years… https://t.co/ieYlCKBr8P\")"
   ]
  },
  {
   "cell_type": "code",
   "execution_count": null,
   "metadata": {
    "id": "61HK43Qgxbw-"
   },
   "outputs": [],
   "source": []
  }
 ],
 "metadata": {
  "accelerator": "GPU",
  "colab": {
   "collapsed_sections": [],
   "name": "Vaccination_For_Justified.ipynb",
   "provenance": []
  },
  "kernelspec": {
   "display_name": "Python 3",
   "language": "python",
   "name": "python3"
  },
  "language_info": {
   "codemirror_mode": {
    "name": "ipython",
    "version": 3
   },
   "file_extension": ".py",
   "mimetype": "text/x-python",
   "name": "python",
   "nbconvert_exporter": "python",
   "pygments_lexer": "ipython3",
   "version": "3.8.5"
  }
 },
 "nbformat": 4,
 "nbformat_minor": 1
}
